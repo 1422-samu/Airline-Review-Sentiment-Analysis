{
 "cells": [
  {
   "cell_type": "code",
   "execution_count": null,
   "metadata": {},
   "outputs": [],
   "source": [
    "# Importing Libraries for Data Analysis and Visualization\n",
    "\n",
    "import pandas as pd\n",
    "import numpy as np\n",
    "import matplotlib.pyplot as plt\n",
    "import seaborn as sns\n",
    "import plotly.express as px\n",
    "import wordcloud\n",
    "sns.set_theme()\n",
    "%matplotlib inline\n",
    "\n",
    "import warnings as w\n",
    "w.filterwarnings('ignore')"
   ]
  },
  {
   "cell_type": "code",
   "execution_count": null,
   "metadata": {},
   "outputs": [],
   "source": [
    "airline_df = pd.read_csv('airline_df_cleaned.csv')\n",
    "airline_df.drop('Recommended', axis=1, inplace=True)\n",
    "airline_df.head()"
   ]
  },
  {
   "cell_type": "code",
   "execution_count": null,
   "metadata": {},
   "outputs": [],
   "source": [
    "airline_df.info()"
   ]
  },
  {
   "cell_type": "code",
   "execution_count": null,
   "metadata": {},
   "outputs": [],
   "source": [
    "airline_df.describe(include='all')"
   ]
  },
  {
   "attachments": {},
   "cell_type": "markdown",
   "metadata": {},
   "source": [
    "## Questions for Data Analysis on Airline Reviews, Ratings and Sentiment (Dashboards)\n",
    "> #### 1. What is the distribution of Seat_Comfort, Cabin_Service, Food_Bev, Entertainment, Ground_Service, and Value_for_Money of each Airline?\n",
    "> #### 2. What is the distribution of Type of Traveller, Seat Type, Route, and Date Flown of each airline?\n",
    "> #### 3. What is the distribution of Ratings of each airline?\n",
    "> #### 4. What is the distribution of Sentiment of each airline?\n",
    "> #### 5. What is the distribution of Ratings of each airline by Type of Traveller, Seat Type, Country, Airline?"
   ]
  },
  {
   "cell_type": "code",
   "execution_count": null,
   "metadata": {},
   "outputs": [],
   "source": [
    "# Pie chart of sentiment distribution\n",
    "for col in [\"Seat Comfort\",\n",
    "        \"Cabin Staff Service\",\n",
    "        \"Food & Beverages\",\n",
    "        \"Inflight Entertainment\",\n",
    "        \"Ground Service\",\n",
    "        \"Value for Money\",\n",
    "    ]:\n",
    "        plt.pie(airline_df[col].value_counts(), labels=airline_df[col].value_counts().index,autopct='%1.1f%%', startangle=90)\n",
    "        plt.title(col)\n",
    "        plt.axis('equal')\n",
    "        plt.legend()\n",
    "        plt.show()"
   ]
  },
  {
   "cell_type": "code",
   "execution_count": null,
   "metadata": {},
   "outputs": [],
   "source": []
  }
 ],
 "metadata": {
  "kernelspec": {
   "display_name": "Scrape",
   "language": "python",
   "name": "python3"
  },
  "language_info": {
   "codemirror_mode": {
    "name": "ipython",
    "version": 3
   },
   "file_extension": ".py",
   "mimetype": "text/x-python",
   "name": "python",
   "nbconvert_exporter": "python",
   "pygments_lexer": "ipython3",
   "version": "3.10.4"
  },
  "orig_nbformat": 4
 },
 "nbformat": 4,
 "nbformat_minor": 2
}
