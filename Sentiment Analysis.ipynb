{
 "cells": [
  {
   "cell_type": "code",
   "execution_count": 20,
   "metadata": {},
   "outputs": [],
   "source": [
    "# Importing basic libraries\n",
    "\n",
    "import numpy as np\n",
    "import pandas as pd\n",
    "import warnings\n",
    "warnings.filterwarnings(\"ignore\")\n",
    "\n",
    "# Importing libraries for sentiment analysis LSTM model\n",
    "\n",
    "import tensorflow as tf\n",
    "import keras\n",
    "from sklearn.feature_extraction.text import TfidfVectorizer, CountVectorizer\n",
    "from sklearn.model_selection import train_test_split\n",
    "from sklearn.naive_bayes import MultinomialNB, GaussianNB, BernoulliNB\n",
    "from sklearn.metrics import accuracy_score, confusion_matrix, classification_report, roc_auc_score, f1_score, precision_score, recall_score\n"
   ]
  },
  {
   "cell_type": "code",
   "execution_count": 21,
   "metadata": {},
   "outputs": [],
   "source": [
    "# Reading the dataset\n",
    "\n",
    "data = pd.read_csv('airline_df_nlped.csv')"
   ]
  },
  {
   "cell_type": "code",
   "execution_count": 22,
   "metadata": {},
   "outputs": [
    {
     "data": {
      "text/html": [
       "<div>\n",
       "<style scoped>\n",
       "    .dataframe tbody tr th:only-of-type {\n",
       "        vertical-align: middle;\n",
       "    }\n",
       "\n",
       "    .dataframe tbody tr th {\n",
       "        vertical-align: top;\n",
       "    }\n",
       "\n",
       "    .dataframe thead th {\n",
       "        text-align: right;\n",
       "    }\n",
       "</style>\n",
       "<table border=\"1\" class=\"dataframe\">\n",
       "  <thead>\n",
       "    <tr style=\"text-align: right;\">\n",
       "      <th></th>\n",
       "      <th>Country</th>\n",
       "      <th>Airline</th>\n",
       "      <th>Review</th>\n",
       "      <th>Cleaned_Review</th>\n",
       "      <th>Review2</th>\n",
       "      <th>Cleaned_Review2</th>\n",
       "      <th>sentiment</th>\n",
       "    </tr>\n",
       "  </thead>\n",
       "  <tbody>\n",
       "    <tr>\n",
       "      <th>0</th>\n",
       "      <td>China</td>\n",
       "      <td>Air China</td>\n",
       "      <td>los angeles beijing return food low quality st...</td>\n",
       "      <td>los angeles beijing return food quality staff ...</td>\n",
       "      <td>los angeles beijing return food low quality st...</td>\n",
       "      <td>los angeles beijing return food quality staff ...</td>\n",
       "      <td>positive</td>\n",
       "    </tr>\n",
       "    <tr>\n",
       "      <th>1</th>\n",
       "      <td>China</td>\n",
       "      <td>Air China</td>\n",
       "      <td>round trip from hong kong to munich the main r...</td>\n",
       "      <td>round trip hong kong munich main reason fly ai...</td>\n",
       "      <td>round trip from hong kong to munich the main r...</td>\n",
       "      <td>round trip hong kong munich main reason fly ai...</td>\n",
       "      <td>negative</td>\n",
       "    </tr>\n",
       "    <tr>\n",
       "      <th>2</th>\n",
       "      <td>China</td>\n",
       "      <td>Air China</td>\n",
       "      <td>sydney beijing paris then rome beijing to sydn...</td>\n",
       "      <td>sydney beijing paris rome beijing sydney famil...</td>\n",
       "      <td>sydney beijing paris then rome beijing to sydn...</td>\n",
       "      <td>sydney beijing paris rome beijing sydney famil...</td>\n",
       "      <td>negative</td>\n",
       "    </tr>\n",
       "    <tr>\n",
       "      <th>3</th>\n",
       "      <td>China</td>\n",
       "      <td>Air China</td>\n",
       "      <td>london to sydney return via beijing a cheap fl...</td>\n",
       "      <td>london sydney return beijing cheap flight live...</td>\n",
       "      <td>london to sydney return via beijing a cheap fl...</td>\n",
       "      <td>london sydney return beijing cheap flight live...</td>\n",
       "      <td>positive</td>\n",
       "    </tr>\n",
       "    <tr>\n",
       "      <th>4</th>\n",
       "      <td>China</td>\n",
       "      <td>Air China</td>\n",
       "      <td>beijing to shanghai only one check in desk for...</td>\n",
       "      <td>beijing shanghai check desk standby passenger ...</td>\n",
       "      <td>beijing to shanghai only one check in desk for...</td>\n",
       "      <td>beijing shanghai check desk standby passenger ...</td>\n",
       "      <td>negative</td>\n",
       "    </tr>\n",
       "  </tbody>\n",
       "</table>\n",
       "</div>"
      ],
      "text/plain": [
       "  Country    Airline                                             Review  \\\n",
       "0   China  Air China  los angeles beijing return food low quality st...   \n",
       "1   China  Air China  round trip from hong kong to munich the main r...   \n",
       "2   China  Air China  sydney beijing paris then rome beijing to sydn...   \n",
       "3   China  Air China  london to sydney return via beijing a cheap fl...   \n",
       "4   China  Air China  beijing to shanghai only one check in desk for...   \n",
       "\n",
       "                                      Cleaned_Review  \\\n",
       "0  los angeles beijing return food quality staff ...   \n",
       "1  round trip hong kong munich main reason fly ai...   \n",
       "2  sydney beijing paris rome beijing sydney famil...   \n",
       "3  london sydney return beijing cheap flight live...   \n",
       "4  beijing shanghai check desk standby passenger ...   \n",
       "\n",
       "                                             Review2  \\\n",
       "0  los angeles beijing return food low quality st...   \n",
       "1  round trip from hong kong to munich the main r...   \n",
       "2  sydney beijing paris then rome beijing to sydn...   \n",
       "3  london to sydney return via beijing a cheap fl...   \n",
       "4  beijing to shanghai only one check in desk for...   \n",
       "\n",
       "                                     Cleaned_Review2 sentiment  \n",
       "0  los angeles beijing return food quality staff ...  positive  \n",
       "1  round trip hong kong munich main reason fly ai...  negative  \n",
       "2  sydney beijing paris rome beijing sydney famil...  negative  \n",
       "3  london sydney return beijing cheap flight live...  positive  \n",
       "4  beijing shanghai check desk standby passenger ...  negative  "
      ]
     },
     "execution_count": 22,
     "metadata": {},
     "output_type": "execute_result"
    }
   ],
   "source": [
    "data.head()"
   ]
  },
  {
   "cell_type": "code",
   "execution_count": 23,
   "metadata": {},
   "outputs": [
    {
     "data": {
      "text/plain": [
       "(15206, 7)"
      ]
     },
     "execution_count": 23,
     "metadata": {},
     "output_type": "execute_result"
    }
   ],
   "source": [
    "data.shape"
   ]
  },
  {
   "cell_type": "code",
   "execution_count": 24,
   "metadata": {},
   "outputs": [
    {
     "data": {
      "text/plain": [
       "'los angeles beijing return food low quality staff appear when time for mandatory service large screen view on main bulkhead without sound on both trip they be old it seem staff have something to say at irregular interval make it hard to try and sleep but they be very good at make business transaction ignore everyone so they could count money and look at receipt you want a cheap very basic airline trip to china then this be the airline for you'"
      ]
     },
     "execution_count": 24,
     "metadata": {},
     "output_type": "execute_result"
    }
   ],
   "source": [
    "data['Review2'][0]"
   ]
  },
  {
   "cell_type": "code",
   "execution_count": 25,
   "metadata": {},
   "outputs": [
    {
     "data": {
      "text/plain": [
       "'los angeles beijing return food quality staff appear time mandatory service large screen view main bulkhead sound trip staff irregular interval hard sleep business transaction ignore count money receipt cheap basic trip china'"
      ]
     },
     "execution_count": 25,
     "metadata": {},
     "output_type": "execute_result"
    }
   ],
   "source": [
    "data['Cleaned_Review2'][0]"
   ]
  },
  {
   "cell_type": "code",
   "execution_count": 26,
   "metadata": {},
   "outputs": [
    {
     "data": {
      "text/plain": [
       "Country            0\n",
       "Airline            0\n",
       "Review             0\n",
       "Cleaned_Review     0\n",
       "Review2            0\n",
       "Cleaned_Review2    0\n",
       "sentiment          0\n",
       "dtype: int64"
      ]
     },
     "execution_count": 26,
     "metadata": {},
     "output_type": "execute_result"
    }
   ],
   "source": [
    "data.isna().sum()"
   ]
  },
  {
   "cell_type": "code",
   "execution_count": 34,
   "metadata": {},
   "outputs": [],
   "source": [
    "# Model Building\n",
    "\n",
    "X = data['Review2']\n",
    "\n",
    "y = data['sentiment']\n",
    "\n",
    "y = y.map({'positive':1,'negative':0,'neutral':2})\n",
    "\n",
    "cv = CountVectorizer(max_features=10000,ngram_range=(1,1),stop_words='english')\n",
    "\n",
    "X = cv.fit_transform(X).toarray()\n",
    "\n",
    "# vec = TfidfVectorizer(max_features=10000,ngram_range=(1,2),stop_words='english')\n",
    "\n",
    "# X = vec.fit_transform(X).toarray()\n",
    "\n",
    "X_train,X_test,y_train,y_test = train_test_split(X,y,test_size=0.2,random_state=42,stratify=y,shuffle=True)"
   ]
  },
  {
   "attachments": {},
   "cell_type": "markdown",
   "metadata": {},
   "source": [
    "# Creating a Word2Vec model for model building\n",
    "\n",
    "from gensim.models import Word2Vec\n",
    "\n",
    "sentences = [row.split() for row in data['Review2']]\n",
    "\n",
    "model = Word2Vec(sentences, vector_size=100, window=5, min_count=1, workers=4)"
   ]
  },
  {
   "attachments": {},
   "cell_type": "markdown",
   "metadata": {},
   "source": [
    "model.wv.most_similar('lunch')"
   ]
  },
  {
   "cell_type": "code",
   "execution_count": 36,
   "metadata": {},
   "outputs": [
    {
     "name": "stdout",
     "output_type": "stream",
     "text": [
      "Model:  GNB\n",
      "Confusion Matrix: \n",
      " [[ 773  224   18]\n",
      " [1213  726   51]\n",
      " [  31    5    1]]\n",
      "Classification Report: \n",
      "               precision    recall  f1-score   support\n",
      "\n",
      "           0       0.38      0.76      0.51      1015\n",
      "           1       0.76      0.36      0.49      1990\n",
      "           2       0.01      0.03      0.02        37\n",
      "\n",
      "    accuracy                           0.49      3042\n",
      "   macro avg       0.39      0.38      0.34      3042\n",
      "weighted avg       0.63      0.49      0.49      3042\n",
      "\n",
      "Model:  BNB\n",
      "Confusion Matrix: \n",
      " [[ 769  242    4]\n",
      " [ 251 1728   11]\n",
      " [  17   20    0]]\n",
      "Classification Report: \n",
      "               precision    recall  f1-score   support\n",
      "\n",
      "           0       0.74      0.76      0.75      1015\n",
      "           1       0.87      0.87      0.87      1990\n",
      "           2       0.00      0.00      0.00        37\n",
      "\n",
      "    accuracy                           0.82      3042\n",
      "   macro avg       0.54      0.54      0.54      3042\n",
      "weighted avg       0.82      0.82      0.82      3042\n",
      "\n",
      "Model:  MNB\n",
      "Confusion Matrix: \n",
      " [[ 769  242    4]\n",
      " [ 251 1735    4]\n",
      " [  17   20    0]]\n",
      "Classification Report: \n",
      "               precision    recall  f1-score   support\n",
      "\n",
      "           0       0.74      0.76      0.75      1015\n",
      "           1       0.87      0.87      0.87      1990\n",
      "           2       0.00      0.00      0.00        37\n",
      "\n",
      "    accuracy                           0.82      3042\n",
      "   macro avg       0.54      0.54      0.54      3042\n",
      "weighted avg       0.82      0.82      0.82      3042\n",
      "\n"
     ]
    },
    {
     "data": {
      "text/html": [
       "<div>\n",
       "<style scoped>\n",
       "    .dataframe tbody tr th:only-of-type {\n",
       "        vertical-align: middle;\n",
       "    }\n",
       "\n",
       "    .dataframe tbody tr th {\n",
       "        vertical-align: top;\n",
       "    }\n",
       "\n",
       "    .dataframe thead th {\n",
       "        text-align: right;\n",
       "    }\n",
       "</style>\n",
       "<table border=\"1\" class=\"dataframe\">\n",
       "  <thead>\n",
       "    <tr style=\"text-align: right;\">\n",
       "      <th></th>\n",
       "      <th>Model</th>\n",
       "      <th>Accuracy</th>\n",
       "      <th>Precision</th>\n",
       "      <th>Recall</th>\n",
       "      <th>F1 Score</th>\n",
       "    </tr>\n",
       "  </thead>\n",
       "  <tbody>\n",
       "    <tr>\n",
       "      <th>0</th>\n",
       "      <td>GNB</td>\n",
       "      <td>0.493097</td>\n",
       "      <td>0.625357</td>\n",
       "      <td>0.493097</td>\n",
       "      <td>0.492894</td>\n",
       "    </tr>\n",
       "    <tr>\n",
       "      <th>1</th>\n",
       "      <td>BNB</td>\n",
       "      <td>0.820842</td>\n",
       "      <td>0.815479</td>\n",
       "      <td>0.820842</td>\n",
       "      <td>0.818131</td>\n",
       "    </tr>\n",
       "    <tr>\n",
       "      <th>2</th>\n",
       "      <td>MNB</td>\n",
       "      <td>0.823143</td>\n",
       "      <td>0.815780</td>\n",
       "      <td>0.823143</td>\n",
       "      <td>0.819431</td>\n",
       "    </tr>\n",
       "  </tbody>\n",
       "</table>\n",
       "</div>"
      ],
      "text/plain": [
       "  Model  Accuracy  Precision    Recall  F1 Score\n",
       "0   GNB  0.493097   0.625357  0.493097  0.492894\n",
       "1   BNB  0.820842   0.815479  0.820842  0.818131\n",
       "2   MNB  0.823143   0.815780  0.823143  0.819431"
      ]
     },
     "execution_count": 36,
     "metadata": {},
     "output_type": "execute_result"
    }
   ],
   "source": [
    "from sklearn.naive_bayes import GaussianNB, BernoulliNB, MultinomialNB\n",
    "\n",
    "models = [('GNB',GaussianNB()),('BNB',BernoulliNB()),('MNB',MultinomialNB())]\n",
    "results = pd.DataFrame(columns=['Model','Accuracy','Precision','Recall','F1 Score'])\n",
    "\n",
    "for name,model in models:\n",
    "    model.fit(X_train,y_train)\n",
    "    y_pred = model.predict(X_test)\n",
    "    acc = accuracy_score(y_test,y_pred)\n",
    "    prec = precision_score(y_test,y_pred,average='weighted')\n",
    "    rec = recall_score(y_test,y_pred,average='weighted')\n",
    "    f1 = f1_score(y_test,y_pred,average='weighted')\n",
    "    # roc_auc = roc_auc_score(y_test,y_pred)\n",
    "    # Adding the results to the dataframe without appending\n",
    "    results.loc[len(results)] = [name,acc,prec,rec,f1]\n",
    "    print('Model: ',name)\n",
    "    print('Confusion Matrix: \\n',confusion_matrix(y_test,y_pred))\n",
    "    print('Classification Report: \\n',classification_report(y_test,y_pred))\n",
    "    \n",
    "results"
   ]
  },
  {
   "cell_type": "code",
   "execution_count": 10,
   "metadata": {},
   "outputs": [],
   "source": [
    "# Using a word2vec model for sentiment analysis\n",
    "\n",
    "from gensim.models import Word2Vec\n",
    "\n",
    "# Creating a list of reviews_for_word2vec\n",
    "\n",
    "reviews_for_word2vec = []\n",
    "\n",
    "for i in range(len(data)):\n",
    "    reviews_for_word2vec.append(data['Review2'][i].split())"
   ]
  },
  {
   "cell_type": "code",
   "execution_count": 11,
   "metadata": {},
   "outputs": [
    {
     "data": {
      "text/plain": [
       "(15206, 100)"
      ]
     },
     "execution_count": 11,
     "metadata": {},
     "output_type": "execute_result"
    }
   ],
   "source": [
    "# Creating a word2vec model\n",
    "\n",
    "word2vec_model = Word2Vec(reviews_for_word2vec,min_count=1,vector_size=100,window=5,workers=4)\n",
    "\n",
    "# Creating a list of vectors for each review\n",
    "\n",
    "vectors = []\n",
    "\n",
    "for i in range(len(reviews_for_word2vec)):\n",
    "    vectors.append(np.sum(word2vec_model.wv[reviews_for_word2vec[i]],axis=0))\n",
    "    \n",
    "vectors = np.array(vectors)\n",
    "\n",
    "vectors.shape"
   ]
  },
  {
   "cell_type": "code",
   "execution_count": 12,
   "metadata": {},
   "outputs": [
    {
     "data": {
      "text/html": [
       "<div>\n",
       "<style scoped>\n",
       "    .dataframe tbody tr th:only-of-type {\n",
       "        vertical-align: middle;\n",
       "    }\n",
       "\n",
       "    .dataframe tbody tr th {\n",
       "        vertical-align: top;\n",
       "    }\n",
       "\n",
       "    .dataframe thead th {\n",
       "        text-align: right;\n",
       "    }\n",
       "</style>\n",
       "<table border=\"1\" class=\"dataframe\">\n",
       "  <thead>\n",
       "    <tr style=\"text-align: right;\">\n",
       "      <th></th>\n",
       "      <th>Accuracy</th>\n",
       "      <th>Precision</th>\n",
       "      <th>Recall</th>\n",
       "      <th>F1 Score</th>\n",
       "      <th>ROC AUC Score</th>\n",
       "    </tr>\n",
       "    <tr>\n",
       "      <th>Model</th>\n",
       "      <th></th>\n",
       "      <th></th>\n",
       "      <th></th>\n",
       "      <th></th>\n",
       "      <th></th>\n",
       "    </tr>\n",
       "  </thead>\n",
       "  <tbody>\n",
       "    <tr>\n",
       "      <th>LR</th>\n",
       "      <td>0.870809</td>\n",
       "      <td>0.882223</td>\n",
       "      <td>0.899551</td>\n",
       "      <td>0.890803</td>\n",
       "      <td>0.864855</td>\n",
       "    </tr>\n",
       "    <tr>\n",
       "      <th>SVC</th>\n",
       "      <td>0.864563</td>\n",
       "      <td>0.872688</td>\n",
       "      <td>0.900112</td>\n",
       "      <td>0.886188</td>\n",
       "      <td>0.857199</td>\n",
       "    </tr>\n",
       "    <tr>\n",
       "      <th>CBC</th>\n",
       "      <td>0.853715</td>\n",
       "      <td>0.868320</td>\n",
       "      <td>0.884400</td>\n",
       "      <td>0.876286</td>\n",
       "      <td>0.847359</td>\n",
       "    </tr>\n",
       "    <tr>\n",
       "      <th>XGB</th>\n",
       "      <td>0.836621</td>\n",
       "      <td>0.857143</td>\n",
       "      <td>0.865320</td>\n",
       "      <td>0.861212</td>\n",
       "      <td>0.830676</td>\n",
       "    </tr>\n",
       "    <tr>\n",
       "      <th>RFC</th>\n",
       "      <td>0.832676</td>\n",
       "      <td>0.838384</td>\n",
       "      <td>0.884961</td>\n",
       "      <td>0.861043</td>\n",
       "      <td>0.821845</td>\n",
       "    </tr>\n",
       "    <tr>\n",
       "      <th>ETC</th>\n",
       "      <td>0.829717</td>\n",
       "      <td>0.833685</td>\n",
       "      <td>0.886083</td>\n",
       "      <td>0.859086</td>\n",
       "      <td>0.818042</td>\n",
       "    </tr>\n",
       "    <tr>\n",
       "      <th>KNN</th>\n",
       "      <td>0.823800</td>\n",
       "      <td>0.825496</td>\n",
       "      <td>0.886644</td>\n",
       "      <td>0.854978</td>\n",
       "      <td>0.810782</td>\n",
       "    </tr>\n",
       "    <tr>\n",
       "      <th>BNB</th>\n",
       "      <td>0.782709</td>\n",
       "      <td>0.817924</td>\n",
       "      <td>0.809203</td>\n",
       "      <td>0.813540</td>\n",
       "      <td>0.777221</td>\n",
       "    </tr>\n",
       "    <tr>\n",
       "      <th>GNB</th>\n",
       "      <td>0.681131</td>\n",
       "      <td>0.676062</td>\n",
       "      <td>0.874860</td>\n",
       "      <td>0.762720</td>\n",
       "      <td>0.641001</td>\n",
       "    </tr>\n",
       "  </tbody>\n",
       "</table>\n",
       "</div>"
      ],
      "text/plain": [
       "       Accuracy  Precision    Recall  F1 Score  ROC AUC Score\n",
       "Model                                                        \n",
       "LR     0.870809   0.882223  0.899551  0.890803       0.864855\n",
       "SVC    0.864563   0.872688  0.900112  0.886188       0.857199\n",
       "CBC    0.853715   0.868320  0.884400  0.876286       0.847359\n",
       "XGB    0.836621   0.857143  0.865320  0.861212       0.830676\n",
       "RFC    0.832676   0.838384  0.884961  0.861043       0.821845\n",
       "ETC    0.829717   0.833685  0.886083  0.859086       0.818042\n",
       "KNN    0.823800   0.825496  0.886644  0.854978       0.810782\n",
       "BNB    0.782709   0.817924  0.809203  0.813540       0.777221\n",
       "GNB    0.681131   0.676062  0.874860  0.762720       0.641001"
      ]
     },
     "execution_count": 12,
     "metadata": {},
     "output_type": "execute_result"
    }
   ],
   "source": [
    "# Model Building\n",
    "\n",
    "X = vectors\n",
    "\n",
    "y = data[\"Sentiment\"]\n",
    "\n",
    "y = y.map({\"Positive\": 1, \"Negative\": 0})\n",
    "\n",
    "X_train, X_test, y_train, y_test = train_test_split(\n",
    "    X, y, test_size=0.2, random_state=42, stratify=y, shuffle=True\n",
    ")\n",
    "\n",
    "from sklearn.naive_bayes import GaussianNB, BernoulliNB\n",
    "from sklearn.svm import SVC\n",
    "from sklearn.ensemble import RandomForestClassifier, ExtraTreesClassifier\n",
    "from sklearn.linear_model import LogisticRegression\n",
    "from sklearn.neighbors import KNeighborsClassifier\n",
    "from xgboost import XGBClassifier\n",
    "from catboost import CatBoostClassifier\n",
    "\n",
    "models = [\n",
    "    (\"GNB\", GaussianNB()),\n",
    "    (\"BNB\", BernoulliNB()),\n",
    "    (\"SVC\", SVC(random_state=101)),\n",
    "    (\"RFC\", RandomForestClassifier(random_state=101)),\n",
    "    (\"ETC\", ExtraTreesClassifier(random_state=101, n_jobs=-1)),\n",
    "    (\"LR\", LogisticRegression(n_jobs=-1)),\n",
    "    (\"KNN\", KNeighborsClassifier(n_jobs=-1)),\n",
    "    (\"XGB\", XGBClassifier(random_state=101, n_jobs=-1)),\n",
    "    (\"CBC\", CatBoostClassifier(random_state=101, verbose=0)),\n",
    "]\n",
    "\n",
    "results = pd.DataFrame(\n",
    "    columns=[\"Model\", \"Accuracy\", \"Precision\", \"Recall\", \"F1 Score\", \"ROC AUC Score\"]\n",
    ")\n",
    "\n",
    "for name, model in models:\n",
    "    model.fit(X_train, y_train)\n",
    "    y_pred = model.predict(X_test)\n",
    "    acc = accuracy_score(y_test, y_pred)\n",
    "    prec = precision_score(y_test, y_pred)\n",
    "    rec = recall_score(y_test, y_pred)\n",
    "    f1 = f1_score(y_test, y_pred)\n",
    "    roc_auc = roc_auc_score(y_test, y_pred)\n",
    "    # Adding the results to the dataframe without appending\n",
    "    results.loc[len(results)] = [name, acc, prec, rec, f1, roc_auc]\n",
    "\n",
    "results.set_index(\"Model\").sort_values(by=\"ROC AUC Score\", ascending=False)"
   ]
  },
  {
   "cell_type": "code",
   "execution_count": null,
   "metadata": {},
   "outputs": [],
   "source": []
  }
 ],
 "metadata": {
  "kernelspec": {
   "display_name": ".venv",
   "language": "python",
   "name": "python3"
  },
  "language_info": {
   "codemirror_mode": {
    "name": "ipython",
    "version": 3
   },
   "file_extension": ".py",
   "mimetype": "text/x-python",
   "name": "python",
   "nbconvert_exporter": "python",
   "pygments_lexer": "ipython3",
   "version": "3.10.4"
  },
  "orig_nbformat": 4
 },
 "nbformat": 4,
 "nbformat_minor": 2
}
