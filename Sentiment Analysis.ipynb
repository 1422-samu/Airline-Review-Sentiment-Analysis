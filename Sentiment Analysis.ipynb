{
 "cells": [
  {
   "cell_type": "code",
   "execution_count": 1,
   "metadata": {},
   "outputs": [],
   "source": [
    "# Importing basic libraries\n",
    "\n",
    "import numpy as np\n",
    "import pandas as pd\n",
    "import warnings\n",
    "warnings.filterwarnings(\"ignore\")\n",
    "\n",
    "# Importing libraries for sentiment analysis LSTM model\n",
    "\n",
    "import tensorflow as tf\n",
    "import keras\n",
    "from sklearn.feature_extraction.text import TfidfVectorizer, CountVectorizer\n",
    "from sklearn.model_selection import train_test_split\n",
    "from sklearn.naive_bayes import MultinomialNB, GaussianNB, BernoulliNB\n",
    "from sklearn.metrics import accuracy_score, confusion_matrix, classification_report, roc_auc_score, f1_score, precision_score, recall_score\n"
   ]
  },
  {
   "cell_type": "code",
   "execution_count": 2,
   "metadata": {},
   "outputs": [],
   "source": [
    "# Reading the dataset\n",
    "\n",
    "data = pd.read_csv('airline_df_nlped.csv')"
   ]
  },
  {
   "cell_type": "code",
   "execution_count": 3,
   "metadata": {},
   "outputs": [
    {
     "data": {
      "text/html": [
       "<div>\n",
       "<style scoped>\n",
       "    .dataframe tbody tr th:only-of-type {\n",
       "        vertical-align: middle;\n",
       "    }\n",
       "\n",
       "    .dataframe tbody tr th {\n",
       "        vertical-align: top;\n",
       "    }\n",
       "\n",
       "    .dataframe thead th {\n",
       "        text-align: right;\n",
       "    }\n",
       "</style>\n",
       "<table border=\"1\" class=\"dataframe\">\n",
       "  <thead>\n",
       "    <tr style=\"text-align: right;\">\n",
       "      <th></th>\n",
       "      <th>Country</th>\n",
       "      <th>Airline</th>\n",
       "      <th>Review</th>\n",
       "      <th>Review_LS</th>\n",
       "      <th>Sentiment</th>\n",
       "    </tr>\n",
       "  </thead>\n",
       "  <tbody>\n",
       "    <tr>\n",
       "      <th>0</th>\n",
       "      <td>China</td>\n",
       "      <td>Air China</td>\n",
       "      <td>los angeles beijing return. food low quality s...</td>\n",
       "      <td>los angeles beijing return . food quality staf...</td>\n",
       "      <td>0</td>\n",
       "    </tr>\n",
       "    <tr>\n",
       "      <th>1</th>\n",
       "      <td>China</td>\n",
       "      <td>Air China</td>\n",
       "      <td>round trip from hong kong to munich. the main ...</td>\n",
       "      <td>round trip hong kong munich . main reason fly ...</td>\n",
       "      <td>0</td>\n",
       "    </tr>\n",
       "    <tr>\n",
       "      <th>2</th>\n",
       "      <td>China</td>\n",
       "      <td>Air China</td>\n",
       "      <td>sydney beijing paris then rome beijing to sydn...</td>\n",
       "      <td>sydney beijing paris rome beijing sydney famil...</td>\n",
       "      <td>0</td>\n",
       "    </tr>\n",
       "    <tr>\n",
       "      <th>3</th>\n",
       "      <td>China</td>\n",
       "      <td>Air China</td>\n",
       "      <td>london to sydney return via beijing. a cheap f...</td>\n",
       "      <td>london sydney return beijing . cheap flight li...</td>\n",
       "      <td>0</td>\n",
       "    </tr>\n",
       "    <tr>\n",
       "      <th>4</th>\n",
       "      <td>China</td>\n",
       "      <td>Air China</td>\n",
       "      <td>beijing to shanghai. only one check in desk fo...</td>\n",
       "      <td>beijing shanghai . check desk standby passenge...</td>\n",
       "      <td>1</td>\n",
       "    </tr>\n",
       "  </tbody>\n",
       "</table>\n",
       "</div>"
      ],
      "text/plain": [
       "  Country    Airline                                             Review  \\\n",
       "0   China  Air China  los angeles beijing return. food low quality s...   \n",
       "1   China  Air China  round trip from hong kong to munich. the main ...   \n",
       "2   China  Air China  sydney beijing paris then rome beijing to sydn...   \n",
       "3   China  Air China  london to sydney return via beijing. a cheap f...   \n",
       "4   China  Air China  beijing to shanghai. only one check in desk fo...   \n",
       "\n",
       "                                           Review_LS  Sentiment  \n",
       "0  los angeles beijing return . food quality staf...          0  \n",
       "1  round trip hong kong munich . main reason fly ...          0  \n",
       "2  sydney beijing paris rome beijing sydney famil...          0  \n",
       "3  london sydney return beijing . cheap flight li...          0  \n",
       "4  beijing shanghai . check desk standby passenge...          1  "
      ]
     },
     "execution_count": 3,
     "metadata": {},
     "output_type": "execute_result"
    }
   ],
   "source": [
    "data.head()"
   ]
  },
  {
   "cell_type": "code",
   "execution_count": 4,
   "metadata": {},
   "outputs": [
    {
     "data": {
      "text/plain": [
       "(15206, 5)"
      ]
     },
     "execution_count": 4,
     "metadata": {},
     "output_type": "execute_result"
    }
   ],
   "source": [
    "data.shape"
   ]
  },
  {
   "cell_type": "code",
   "execution_count": 5,
   "metadata": {},
   "outputs": [
    {
     "data": {
      "text/plain": [
       "'los angeles beijing return. food low quality staff appeared when time for mandatory service large screen viewing on main bulkhead without sound on both trips. they were older 747s. it seems staff had something to say at irregular intervals making it hard to try and sleep but they were very good at making business transactions ignoring everyone so they could count money and look at receipts. you want a cheap very basic airline trip to china then this is the airline for you.'"
      ]
     },
     "execution_count": 5,
     "metadata": {},
     "output_type": "execute_result"
    }
   ],
   "source": [
    "data['Review'][0]"
   ]
  },
  {
   "cell_type": "code",
   "execution_count": 6,
   "metadata": {},
   "outputs": [
    {
     "data": {
      "text/plain": [
       "'los angeles beijing return . food quality staff appear time mandatory service large screen view main bulkhead sound trip . 747 . staff irregular interval hard sleep business transaction ignore count money receipt . cheap basic trip china .'"
      ]
     },
     "execution_count": 6,
     "metadata": {},
     "output_type": "execute_result"
    }
   ],
   "source": [
    "data['Review_LS'][0]"
   ]
  },
  {
   "cell_type": "code",
   "execution_count": 7,
   "metadata": {},
   "outputs": [
    {
     "data": {
      "text/plain": [
       "Country      0\n",
       "Airline      0\n",
       "Review       0\n",
       "Review_LS    0\n",
       "Sentiment    0\n",
       "dtype: int64"
      ]
     },
     "execution_count": 7,
     "metadata": {},
     "output_type": "execute_result"
    }
   ],
   "source": [
    "data.isna().sum()"
   ]
  },
  {
   "cell_type": "code",
   "execution_count": 9,
   "metadata": {},
   "outputs": [],
   "source": [
    "# Model Building\n",
    "\n",
    "X = data['Review']\n",
    "\n",
    "y = data['Sentiment']\n",
    "\n",
    "# cv = CountVectorizer(max_features=10000,ngram_range=(1,1),stop_words='english')\n",
    "\n",
    "# X = cv.fit_transform(X).toarray()\n",
    "\n",
    "vec = TfidfVectorizer(max_features=10000,ngram_range=(1,1),stop_words='english')\n",
    "\n",
    "X = vec.fit_transform(X).toarray()\n",
    "\n",
    "X_train,X_test,y_train,y_test = train_test_split(X,y,test_size=0.2,random_state=42,stratify=y,shuffle=True)"
   ]
  },
  {
   "cell_type": "code",
   "execution_count": 10,
   "metadata": {},
   "outputs": [
    {
     "name": "stdout",
     "output_type": "stream",
     "text": [
      "Model:  GNB\n",
      "Confusion Matrix: \n",
      " [[ 801  741]\n",
      " [ 288 1212]]\n",
      "Classification Report: \n",
      "               precision    recall  f1-score   support\n",
      "\n",
      "           0       0.74      0.52      0.61      1542\n",
      "           1       0.62      0.81      0.70      1500\n",
      "\n",
      "    accuracy                           0.66      3042\n",
      "   macro avg       0.68      0.66      0.66      3042\n",
      "weighted avg       0.68      0.66      0.65      3042\n",
      "\n",
      "Model:  BNB\n",
      "Confusion Matrix: \n",
      " [[1131  411]\n",
      " [ 135 1365]]\n",
      "Classification Report: \n",
      "               precision    recall  f1-score   support\n",
      "\n",
      "           0       0.89      0.73      0.81      1542\n",
      "           1       0.77      0.91      0.83      1500\n",
      "\n",
      "    accuracy                           0.82      3042\n",
      "   macro avg       0.83      0.82      0.82      3042\n",
      "weighted avg       0.83      0.82      0.82      3042\n",
      "\n",
      "Model:  MNB\n",
      "Confusion Matrix: \n",
      " [[1200  342]\n",
      " [ 152 1348]]\n",
      "Classification Report: \n",
      "               precision    recall  f1-score   support\n",
      "\n",
      "           0       0.89      0.78      0.83      1542\n",
      "           1       0.80      0.90      0.85      1500\n",
      "\n",
      "    accuracy                           0.84      3042\n",
      "   macro avg       0.84      0.84      0.84      3042\n",
      "weighted avg       0.84      0.84      0.84      3042\n",
      "\n"
     ]
    },
    {
     "data": {
      "text/html": [
       "<div>\n",
       "<style scoped>\n",
       "    .dataframe tbody tr th:only-of-type {\n",
       "        vertical-align: middle;\n",
       "    }\n",
       "\n",
       "    .dataframe tbody tr th {\n",
       "        vertical-align: top;\n",
       "    }\n",
       "\n",
       "    .dataframe thead th {\n",
       "        text-align: right;\n",
       "    }\n",
       "</style>\n",
       "<table border=\"1\" class=\"dataframe\">\n",
       "  <thead>\n",
       "    <tr style=\"text-align: right;\">\n",
       "      <th></th>\n",
       "      <th>Model</th>\n",
       "      <th>Accuracy</th>\n",
       "      <th>Precision</th>\n",
       "      <th>Recall</th>\n",
       "      <th>F1 Score</th>\n",
       "      <th>ROC AUC</th>\n",
       "    </tr>\n",
       "  </thead>\n",
       "  <tbody>\n",
       "    <tr>\n",
       "      <th>0</th>\n",
       "      <td>GNB</td>\n",
       "      <td>0.661736</td>\n",
       "      <td>0.678854</td>\n",
       "      <td>0.661736</td>\n",
       "      <td>0.654803</td>\n",
       "      <td>0.663728</td>\n",
       "    </tr>\n",
       "    <tr>\n",
       "      <th>1</th>\n",
       "      <td>BNB</td>\n",
       "      <td>0.820513</td>\n",
       "      <td>0.831834</td>\n",
       "      <td>0.820513</td>\n",
       "      <td>0.819253</td>\n",
       "      <td>0.821732</td>\n",
       "    </tr>\n",
       "    <tr>\n",
       "      <th>2</th>\n",
       "      <td>MNB</td>\n",
       "      <td>0.837607</td>\n",
       "      <td>0.843224</td>\n",
       "      <td>0.837607</td>\n",
       "      <td>0.837112</td>\n",
       "      <td>0.838438</td>\n",
       "    </tr>\n",
       "  </tbody>\n",
       "</table>\n",
       "</div>"
      ],
      "text/plain": [
       "  Model  Accuracy  Precision    Recall  F1 Score   ROC AUC\n",
       "0   GNB  0.661736   0.678854  0.661736  0.654803  0.663728\n",
       "1   BNB  0.820513   0.831834  0.820513  0.819253  0.821732\n",
       "2   MNB  0.837607   0.843224  0.837607  0.837112  0.838438"
      ]
     },
     "execution_count": 10,
     "metadata": {},
     "output_type": "execute_result"
    }
   ],
   "source": [
    "from sklearn.naive_bayes import GaussianNB, BernoulliNB, MultinomialNB\n",
    "\n",
    "models = [('GNB',GaussianNB()),('BNB',BernoulliNB()),('MNB',MultinomialNB())]\n",
    "results = pd.DataFrame(columns=['Model','Accuracy','Precision','Recall','F1 Score','ROC AUC'])\n",
    "\n",
    "for name,model in models:\n",
    "    model.fit(X_train,y_train)\n",
    "    y_pred = model.predict(X_test)\n",
    "    acc = accuracy_score(y_test,y_pred)\n",
    "    prec = precision_score(y_test,y_pred,average='weighted')\n",
    "    rec = recall_score(y_test,y_pred,average='weighted')\n",
    "    f1 = f1_score(y_test,y_pred,average='weighted')\n",
    "    roc_auc = roc_auc_score(y_test,y_pred)\n",
    "    # Adding the results to the dataframe without appending\n",
    "    results.loc[len(results)] = [name,acc,prec,rec,f1,roc_auc]\n",
    "    print('Model: ',name)\n",
    "    print('Confusion Matrix: \\n',confusion_matrix(y_test,y_pred))\n",
    "    print('Classification Report: \\n',classification_report(y_test,y_pred))\n",
    "    \n",
    "results"
   ]
  },
  {
   "cell_type": "code",
   "execution_count": 11,
   "metadata": {},
   "outputs": [],
   "source": [
    "# Using a word2vec model for sentiment analysis\n",
    "\n",
    "from gensim.models import Word2Vec\n",
    "\n",
    "# Creating a list of reviews_for_word2vec\n",
    "\n",
    "reviews_for_word2vec = []\n",
    "\n",
    "for i in range(len(data)):\n",
    "    reviews_for_word2vec.append(data['Review'][i].split())"
   ]
  },
  {
   "cell_type": "code",
   "execution_count": 12,
   "metadata": {},
   "outputs": [
    {
     "data": {
      "text/plain": [
       "(15206, 200)"
      ]
     },
     "execution_count": 12,
     "metadata": {},
     "output_type": "execute_result"
    }
   ],
   "source": [
    "# Creating a word2vec model\n",
    "\n",
    "word2vec_model = Word2Vec(reviews_for_word2vec,min_count=1,vector_size=200,window=5,workers=4)\n",
    "\n",
    "# Creating a list of vectors for each review\n",
    "\n",
    "vectors = []\n",
    "\n",
    "for i in range(len(reviews_for_word2vec)):\n",
    "    vectors.append(np.sum(word2vec_model.wv[reviews_for_word2vec[i]],axis=0))\n",
    "    \n",
    "vectors = np.array(vectors)\n",
    "\n",
    "vectors.shape"
   ]
  },
  {
   "cell_type": "code",
   "execution_count": 13,
   "metadata": {},
   "outputs": [
    {
     "data": {
      "text/html": [
       "<div>\n",
       "<style scoped>\n",
       "    .dataframe tbody tr th:only-of-type {\n",
       "        vertical-align: middle;\n",
       "    }\n",
       "\n",
       "    .dataframe tbody tr th {\n",
       "        vertical-align: top;\n",
       "    }\n",
       "\n",
       "    .dataframe thead th {\n",
       "        text-align: right;\n",
       "    }\n",
       "</style>\n",
       "<table border=\"1\" class=\"dataframe\">\n",
       "  <thead>\n",
       "    <tr style=\"text-align: right;\">\n",
       "      <th></th>\n",
       "      <th>Accuracy</th>\n",
       "      <th>Precision</th>\n",
       "      <th>Recall</th>\n",
       "      <th>F1 Score</th>\n",
       "      <th>ROC AUC Score</th>\n",
       "    </tr>\n",
       "    <tr>\n",
       "      <th>Model</th>\n",
       "      <th></th>\n",
       "      <th></th>\n",
       "      <th></th>\n",
       "      <th></th>\n",
       "      <th></th>\n",
       "    </tr>\n",
       "  </thead>\n",
       "  <tbody>\n",
       "    <tr>\n",
       "      <th>LR</th>\n",
       "      <td>0.834977</td>\n",
       "      <td>0.815823</td>\n",
       "      <td>0.859333</td>\n",
       "      <td>0.837013</td>\n",
       "      <td>0.835309</td>\n",
       "    </tr>\n",
       "    <tr>\n",
       "      <th>SVC</th>\n",
       "      <td>0.823800</td>\n",
       "      <td>0.796798</td>\n",
       "      <td>0.862667</td>\n",
       "      <td>0.828425</td>\n",
       "      <td>0.824329</td>\n",
       "    </tr>\n",
       "    <tr>\n",
       "      <th>CBC</th>\n",
       "      <td>0.821170</td>\n",
       "      <td>0.802532</td>\n",
       "      <td>0.845333</td>\n",
       "      <td>0.823377</td>\n",
       "      <td>0.821499</td>\n",
       "    </tr>\n",
       "    <tr>\n",
       "      <th>XGB</th>\n",
       "      <td>0.805391</td>\n",
       "      <td>0.790281</td>\n",
       "      <td>0.824000</td>\n",
       "      <td>0.806789</td>\n",
       "      <td>0.805645</td>\n",
       "    </tr>\n",
       "    <tr>\n",
       "      <th>RFC</th>\n",
       "      <td>0.791913</td>\n",
       "      <td>0.770768</td>\n",
       "      <td>0.822667</td>\n",
       "      <td>0.795872</td>\n",
       "      <td>0.792332</td>\n",
       "    </tr>\n",
       "    <tr>\n",
       "      <th>ETC</th>\n",
       "      <td>0.786654</td>\n",
       "      <td>0.763467</td>\n",
       "      <td>0.822000</td>\n",
       "      <td>0.791653</td>\n",
       "      <td>0.787135</td>\n",
       "    </tr>\n",
       "    <tr>\n",
       "      <th>KNN</th>\n",
       "      <td>0.759040</td>\n",
       "      <td>0.726789</td>\n",
       "      <td>0.819333</td>\n",
       "      <td>0.770291</td>\n",
       "      <td>0.759861</td>\n",
       "    </tr>\n",
       "    <tr>\n",
       "      <th>BNB</th>\n",
       "      <td>0.738659</td>\n",
       "      <td>0.726397</td>\n",
       "      <td>0.754000</td>\n",
       "      <td>0.739941</td>\n",
       "      <td>0.738868</td>\n",
       "    </tr>\n",
       "    <tr>\n",
       "      <th>GNB</th>\n",
       "      <td>0.618672</td>\n",
       "      <td>0.575155</td>\n",
       "      <td>0.867333</td>\n",
       "      <td>0.691653</td>\n",
       "      <td>0.622058</td>\n",
       "    </tr>\n",
       "  </tbody>\n",
       "</table>\n",
       "</div>"
      ],
      "text/plain": [
       "       Accuracy  Precision    Recall  F1 Score  ROC AUC Score\n",
       "Model                                                        \n",
       "LR     0.834977   0.815823  0.859333  0.837013       0.835309\n",
       "SVC    0.823800   0.796798  0.862667  0.828425       0.824329\n",
       "CBC    0.821170   0.802532  0.845333  0.823377       0.821499\n",
       "XGB    0.805391   0.790281  0.824000  0.806789       0.805645\n",
       "RFC    0.791913   0.770768  0.822667  0.795872       0.792332\n",
       "ETC    0.786654   0.763467  0.822000  0.791653       0.787135\n",
       "KNN    0.759040   0.726789  0.819333  0.770291       0.759861\n",
       "BNB    0.738659   0.726397  0.754000  0.739941       0.738868\n",
       "GNB    0.618672   0.575155  0.867333  0.691653       0.622058"
      ]
     },
     "execution_count": 13,
     "metadata": {},
     "output_type": "execute_result"
    }
   ],
   "source": [
    "# Model Building\n",
    "\n",
    "X = vectors\n",
    "\n",
    "y = data[\"Sentiment\"]\n",
    "\n",
    "X_train, X_test, y_train, y_test = train_test_split(\n",
    "    X, y, test_size=0.2, random_state=42, stratify=y, shuffle=True\n",
    ")\n",
    "\n",
    "from sklearn.naive_bayes import GaussianNB, BernoulliNB\n",
    "from sklearn.svm import SVC\n",
    "from sklearn.ensemble import RandomForestClassifier, ExtraTreesClassifier\n",
    "from sklearn.linear_model import LogisticRegression\n",
    "from sklearn.neighbors import KNeighborsClassifier\n",
    "from xgboost import XGBClassifier\n",
    "from catboost import CatBoostClassifier\n",
    "\n",
    "models = [\n",
    "    (\"GNB\", GaussianNB()),\n",
    "    (\"BNB\", BernoulliNB()),\n",
    "    (\"SVC\", SVC(random_state=101)),\n",
    "    (\"RFC\", RandomForestClassifier(random_state=101)),\n",
    "    (\"ETC\", ExtraTreesClassifier(random_state=101, n_jobs=-1)),\n",
    "    (\"LR\", LogisticRegression(n_jobs=-1)),\n",
    "    (\"KNN\", KNeighborsClassifier(n_jobs=-1)),\n",
    "    (\"XGB\", XGBClassifier(random_state=101, n_jobs=-1)),\n",
    "    (\"CBC\", CatBoostClassifier(random_state=101, verbose=0)),\n",
    "]\n",
    "\n",
    "results = pd.DataFrame(\n",
    "    columns=[\"Model\", \"Accuracy\", \"Precision\", \"Recall\", \"F1 Score\", \"ROC AUC Score\"]\n",
    ")\n",
    "\n",
    "for name, model in models:\n",
    "    model.fit(X_train, y_train)\n",
    "    y_pred = model.predict(X_test)\n",
    "    acc = accuracy_score(y_test, y_pred)\n",
    "    prec = precision_score(y_test, y_pred)\n",
    "    rec = recall_score(y_test, y_pred)\n",
    "    f1 = f1_score(y_test, y_pred)\n",
    "    roc_auc = roc_auc_score(y_test, y_pred)\n",
    "    # Adding the results to the dataframe without appending\n",
    "    results.loc[len(results)] = [name, acc, prec, rec, f1, roc_auc]\n",
    "\n",
    "results.set_index(\"Model\").sort_values(by=\"ROC AUC Score\", ascending=False)"
   ]
  }
 ],
 "metadata": {
  "kernelspec": {
   "display_name": ".venv",
   "language": "python",
   "name": "python3"
  },
  "language_info": {
   "codemirror_mode": {
    "name": "ipython",
    "version": 3
   },
   "file_extension": ".py",
   "mimetype": "text/x-python",
   "name": "python",
   "nbconvert_exporter": "python",
   "pygments_lexer": "ipython3",
   "version": "3.10.4"
  },
  "orig_nbformat": 4
 },
 "nbformat": 4,
 "nbformat_minor": 2
}
