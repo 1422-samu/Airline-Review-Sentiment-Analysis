{
 "cells": [
  {
   "cell_type": "code",
   "execution_count": 17,
   "metadata": {},
   "outputs": [],
   "source": [
    "# Importing basic libraries\n",
    "\n",
    "import numpy as np\n",
    "import pandas as pd\n",
    "import warnings\n",
    "warnings.filterwarnings(\"ignore\")\n",
    "\n",
    "# Importing libraries for sentiment analysis LSTM model\n",
    "\n",
    "import tensorflow as tf\n",
    "import keras\n",
    "from sklearn.feature_extraction.text import TfidfVectorizer, CountVectorizer\n",
    "from sklearn.model_selection import train_test_split\n",
    "from sklearn.naive_bayes import MultinomialNB, GaussianNB, BernoulliNB\n",
    "from sklearn.metrics import accuracy_score, confusion_matrix, classification_report, roc_auc_score, f1_score, precision_score, recall_score\n"
   ]
  },
  {
   "cell_type": "code",
   "execution_count": 2,
   "metadata": {},
   "outputs": [],
   "source": [
    "# Reading the dataset\n",
    "\n",
    "data = pd.read_csv('airline_df_nlped.csv')"
   ]
  },
  {
   "cell_type": "code",
   "execution_count": 3,
   "metadata": {},
   "outputs": [
    {
     "data": {
      "text/html": [
       "<div>\n",
       "<style scoped>\n",
       "    .dataframe tbody tr th:only-of-type {\n",
       "        vertical-align: middle;\n",
       "    }\n",
       "\n",
       "    .dataframe tbody tr th {\n",
       "        vertical-align: top;\n",
       "    }\n",
       "\n",
       "    .dataframe thead th {\n",
       "        text-align: right;\n",
       "    }\n",
       "</style>\n",
       "<table border=\"1\" class=\"dataframe\">\n",
       "  <thead>\n",
       "    <tr style=\"text-align: right;\">\n",
       "      <th></th>\n",
       "      <th>Country</th>\n",
       "      <th>Airline</th>\n",
       "      <th>Review</th>\n",
       "      <th>Cleaned_Review</th>\n",
       "      <th>Sentiment</th>\n",
       "      <th>Review2</th>\n",
       "      <th>Cleaned_Review2</th>\n",
       "    </tr>\n",
       "  </thead>\n",
       "  <tbody>\n",
       "    <tr>\n",
       "      <th>0</th>\n",
       "      <td>China</td>\n",
       "      <td>Air China</td>\n",
       "      <td>los angeles to beijing return. food low qualit...</td>\n",
       "      <td>los angeles to beijing return . food low quali...</td>\n",
       "      <td>Negative</td>\n",
       "      <td>los angeles to beijing return. food low qualit...</td>\n",
       "      <td>los angeles to beijing return . food low quali...</td>\n",
       "    </tr>\n",
       "    <tr>\n",
       "      <th>1</th>\n",
       "      <td>China</td>\n",
       "      <td>Air China</td>\n",
       "      <td>round to trip from hong kong to munich. the ma...</td>\n",
       "      <td>round to trip from hong kong to munich . the m...</td>\n",
       "      <td>Negative</td>\n",
       "      <td>round to trip from hong kong to munich. the ma...</td>\n",
       "      <td>round to trip from hong kong to munich . the m...</td>\n",
       "    </tr>\n",
       "    <tr>\n",
       "      <th>2</th>\n",
       "      <td>China</td>\n",
       "      <td>Air China</td>\n",
       "      <td>sydney to beijing to paris then rome to beijin...</td>\n",
       "      <td>sydney to beijing to paris then rome to beijin...</td>\n",
       "      <td>Negative</td>\n",
       "      <td>sydney to beijing to paris then rome to beijin...</td>\n",
       "      <td>sydney to beijing to paris then rome to beijin...</td>\n",
       "    </tr>\n",
       "    <tr>\n",
       "      <th>3</th>\n",
       "      <td>China</td>\n",
       "      <td>Air China</td>\n",
       "      <td>london to sydney return via beijing. a cheap f...</td>\n",
       "      <td>london to sydney return via beijing . a cheap ...</td>\n",
       "      <td>Negative</td>\n",
       "      <td>london to sydney return via beijing. a cheap f...</td>\n",
       "      <td>london to sydney return via beijing . a cheap ...</td>\n",
       "    </tr>\n",
       "    <tr>\n",
       "      <th>4</th>\n",
       "      <td>China</td>\n",
       "      <td>Air China</td>\n",
       "      <td>beijing to shanghai. only one check to in desk...</td>\n",
       "      <td>beijing to shanghai . only one check to in des...</td>\n",
       "      <td>Positive</td>\n",
       "      <td>beijing to shanghai. only one check to in desk...</td>\n",
       "      <td>beijing to shanghai . only one check to in des...</td>\n",
       "    </tr>\n",
       "  </tbody>\n",
       "</table>\n",
       "</div>"
      ],
      "text/plain": [
       "  Country    Airline                                             Review  \\\n",
       "0   China  Air China  los angeles to beijing return. food low qualit...   \n",
       "1   China  Air China  round to trip from hong kong to munich. the ma...   \n",
       "2   China  Air China  sydney to beijing to paris then rome to beijin...   \n",
       "3   China  Air China  london to sydney return via beijing. a cheap f...   \n",
       "4   China  Air China  beijing to shanghai. only one check to in desk...   \n",
       "\n",
       "                                      Cleaned_Review Sentiment  \\\n",
       "0  los angeles to beijing return . food low quali...  Negative   \n",
       "1  round to trip from hong kong to munich . the m...  Negative   \n",
       "2  sydney to beijing to paris then rome to beijin...  Negative   \n",
       "3  london to sydney return via beijing . a cheap ...  Negative   \n",
       "4  beijing to shanghai . only one check to in des...  Positive   \n",
       "\n",
       "                                             Review2  \\\n",
       "0  los angeles to beijing return. food low qualit...   \n",
       "1  round to trip from hong kong to munich. the ma...   \n",
       "2  sydney to beijing to paris then rome to beijin...   \n",
       "3  london to sydney return via beijing. a cheap f...   \n",
       "4  beijing to shanghai. only one check to in desk...   \n",
       "\n",
       "                                     Cleaned_Review2  \n",
       "0  los angeles to beijing return . food low quali...  \n",
       "1  round to trip from hong kong to munich . the m...  \n",
       "2  sydney to beijing to paris then rome to beijin...  \n",
       "3  london to sydney return via beijing . a cheap ...  \n",
       "4  beijing to shanghai . only one check to in des...  "
      ]
     },
     "execution_count": 3,
     "metadata": {},
     "output_type": "execute_result"
    }
   ],
   "source": [
    "data.head()"
   ]
  },
  {
   "cell_type": "code",
   "execution_count": 4,
   "metadata": {},
   "outputs": [
    {
     "data": {
      "text/plain": [
       "(15206, 7)"
      ]
     },
     "execution_count": 4,
     "metadata": {},
     "output_type": "execute_result"
    }
   ],
   "source": [
    "data.shape"
   ]
  },
  {
   "cell_type": "code",
   "execution_count": 5,
   "metadata": {},
   "outputs": [
    {
     "data": {
      "text/plain": [
       "'los angeles to beijing return. food low quality staff appeared when time for mandatory service large screen viewing on main bulkhead without sound on both trips. they were older 747s. it seems staff had something to say at irregular intervals making it hard to try and sleep but they were very good at making business transactions ignoring everyone so they could count money and look at receipts. you want a cheap very basic airline trip to china then this is the airline for you.'"
      ]
     },
     "execution_count": 5,
     "metadata": {},
     "output_type": "execute_result"
    }
   ],
   "source": [
    "data['Review2'][0]"
   ]
  },
  {
   "cell_type": "code",
   "execution_count": 6,
   "metadata": {},
   "outputs": [
    {
     "data": {
      "text/plain": [
       "'los angeles to beijing return . food low quality staff appear when time for mandatory service large screen view on main bulkhead without sound on both trip . they be old . it seem staff have something to say at irregular interval make it hard to try and sleep but they be very good at make business transaction ignore everyone so they could count money and look at receipt . you want a cheap very basic airline trip to china then this be the airline for you .'"
      ]
     },
     "execution_count": 6,
     "metadata": {},
     "output_type": "execute_result"
    }
   ],
   "source": [
    "data['Cleaned_Review2'][0]"
   ]
  },
  {
   "cell_type": "code",
   "execution_count": 7,
   "metadata": {},
   "outputs": [
    {
     "data": {
      "text/plain": [
       "Country            0\n",
       "Airline            0\n",
       "Review             0\n",
       "Cleaned_Review     0\n",
       "Sentiment          0\n",
       "Review2            0\n",
       "Cleaned_Review2    0\n",
       "dtype: int64"
      ]
     },
     "execution_count": 7,
     "metadata": {},
     "output_type": "execute_result"
    }
   ],
   "source": [
    "data.isna().sum()"
   ]
  },
  {
   "cell_type": "code",
   "execution_count": 21,
   "metadata": {},
   "outputs": [],
   "source": [
    "# Model Building\n",
    "\n",
    "X = data['Review2']\n",
    "\n",
    "y = data['Sentiment']\n",
    "\n",
    "y = y.map({'Positive':1,'Negative':0})\n",
    "\n",
    "cv = CountVectorizer(max_features=10000,ngram_range=(1,1))\n",
    "\n",
    "X = cv.fit_transform(X).toarray()\n",
    "\n",
    "# vec = TfidfVectorizer(max_features=10000,ngram_range=(1,2))\n",
    "\n",
    "# X = vec.fit_transform(X).toarray()\n",
    "\n",
    "X_train,X_test,y_train,y_test = train_test_split(X,y,test_size=0.2,random_state=42,stratify=y,shuffle=True)"
   ]
  },
  {
   "cell_type": "code",
   "execution_count": 22,
   "metadata": {},
   "outputs": [],
   "source": [
    "from sklearn.naive_bayes import GaussianNB, BernoulliNB, MultinomialNB\n",
    "from sklearn.svm import SVC\n",
    "from sklearn.ensemble import RandomForestClassifier\n",
    "\n",
    "models = [('GNB',GaussianNB()),('BNB',BernoulliNB()),('MNB',MultinomialNB())]"
   ]
  },
  {
   "cell_type": "code",
   "execution_count": 20,
   "metadata": {},
   "outputs": [
    {
     "data": {
      "text/html": [
       "<div>\n",
       "<style scoped>\n",
       "    .dataframe tbody tr th:only-of-type {\n",
       "        vertical-align: middle;\n",
       "    }\n",
       "\n",
       "    .dataframe tbody tr th {\n",
       "        vertical-align: top;\n",
       "    }\n",
       "\n",
       "    .dataframe thead th {\n",
       "        text-align: right;\n",
       "    }\n",
       "</style>\n",
       "<table border=\"1\" class=\"dataframe\">\n",
       "  <thead>\n",
       "    <tr style=\"text-align: right;\">\n",
       "      <th></th>\n",
       "      <th>Model</th>\n",
       "      <th>Accuracy</th>\n",
       "      <th>Precision</th>\n",
       "      <th>Recall</th>\n",
       "      <th>F1 Score</th>\n",
       "      <th>ROC AUC Score</th>\n",
       "    </tr>\n",
       "  </thead>\n",
       "  <tbody>\n",
       "    <tr>\n",
       "      <th>0</th>\n",
       "      <td>GNB</td>\n",
       "      <td>0.860618</td>\n",
       "      <td>0.862327</td>\n",
       "      <td>0.906846</td>\n",
       "      <td>0.884026</td>\n",
       "      <td>0.851042</td>\n",
       "    </tr>\n",
       "    <tr>\n",
       "      <th>1</th>\n",
       "      <td>BNB</td>\n",
       "      <td>0.840565</td>\n",
       "      <td>0.836883</td>\n",
       "      <td>0.904040</td>\n",
       "      <td>0.869166</td>\n",
       "      <td>0.827417</td>\n",
       "    </tr>\n",
       "    <tr>\n",
       "      <th>2</th>\n",
       "      <td>MNB</td>\n",
       "      <td>0.860618</td>\n",
       "      <td>0.869423</td>\n",
       "      <td>0.896745</td>\n",
       "      <td>0.882873</td>\n",
       "      <td>0.853135</td>\n",
       "    </tr>\n",
       "  </tbody>\n",
       "</table>\n",
       "</div>"
      ],
      "text/plain": [
       "  Model  Accuracy  Precision    Recall  F1 Score  ROC AUC Score\n",
       "0   GNB  0.860618   0.862327  0.906846  0.884026       0.851042\n",
       "1   BNB  0.840565   0.836883  0.904040  0.869166       0.827417\n",
       "2   MNB  0.860618   0.869423  0.896745  0.882873       0.853135"
      ]
     },
     "execution_count": 20,
     "metadata": {},
     "output_type": "execute_result"
    }
   ],
   "source": [
    "results = pd.DataFrame(columns=['Model','Accuracy','Precision','Recall','F1 Score','ROC AUC Score'])\n",
    "\n",
    "for name,model in models:\n",
    "    model.fit(X_train,y_train)\n",
    "    y_pred = model.predict(X_test)\n",
    "    acc = accuracy_score(y_test,y_pred)\n",
    "    prec = precision_score(y_test,y_pred)\n",
    "    rec = recall_score(y_test,y_pred)\n",
    "    f1 = f1_score(y_test,y_pred)\n",
    "    roc_auc = roc_auc_score(y_test,y_pred)\n",
    "    # Adding the results to the dataframe without appending\n",
    "    results.loc[len(results)] = [name,acc,prec,rec,f1,roc_auc]\n",
    "    \n",
    "results"
   ]
  },
  {
   "cell_type": "code",
   "execution_count": 23,
   "metadata": {},
   "outputs": [
    {
     "data": {
      "text/html": [
       "<div>\n",
       "<style scoped>\n",
       "    .dataframe tbody tr th:only-of-type {\n",
       "        vertical-align: middle;\n",
       "    }\n",
       "\n",
       "    .dataframe tbody tr th {\n",
       "        vertical-align: top;\n",
       "    }\n",
       "\n",
       "    .dataframe thead th {\n",
       "        text-align: right;\n",
       "    }\n",
       "</style>\n",
       "<table border=\"1\" class=\"dataframe\">\n",
       "  <thead>\n",
       "    <tr style=\"text-align: right;\">\n",
       "      <th></th>\n",
       "      <th>Model</th>\n",
       "      <th>Accuracy</th>\n",
       "      <th>Precision</th>\n",
       "      <th>Recall</th>\n",
       "      <th>F1 Score</th>\n",
       "      <th>ROC AUC Score</th>\n",
       "    </tr>\n",
       "  </thead>\n",
       "  <tbody>\n",
       "    <tr>\n",
       "      <th>0</th>\n",
       "      <td>GNB</td>\n",
       "      <td>0.752794</td>\n",
       "      <td>0.793615</td>\n",
       "      <td>0.781145</td>\n",
       "      <td>0.787330</td>\n",
       "      <td>0.746922</td>\n",
       "    </tr>\n",
       "    <tr>\n",
       "      <th>1</th>\n",
       "      <td>BNB</td>\n",
       "      <td>0.829060</td>\n",
       "      <td>0.825593</td>\n",
       "      <td>0.897868</td>\n",
       "      <td>0.860215</td>\n",
       "      <td>0.814807</td>\n",
       "    </tr>\n",
       "    <tr>\n",
       "      <th>2</th>\n",
       "      <td>MNB</td>\n",
       "      <td>0.865878</td>\n",
       "      <td>0.867380</td>\n",
       "      <td>0.910213</td>\n",
       "      <td>0.888280</td>\n",
       "      <td>0.856694</td>\n",
       "    </tr>\n",
       "  </tbody>\n",
       "</table>\n",
       "</div>"
      ],
      "text/plain": [
       "  Model  Accuracy  Precision    Recall  F1 Score  ROC AUC Score\n",
       "0   GNB  0.752794   0.793615  0.781145  0.787330       0.746922\n",
       "1   BNB  0.829060   0.825593  0.897868  0.860215       0.814807\n",
       "2   MNB  0.865878   0.867380  0.910213  0.888280       0.856694"
      ]
     },
     "execution_count": 23,
     "metadata": {},
     "output_type": "execute_result"
    }
   ],
   "source": [
    "results2 = pd.DataFrame(columns=['Model','Accuracy','Precision','Recall','F1 Score','ROC AUC Score'])\n",
    "\n",
    "for name,model in models:\n",
    "    model.fit(X_train,y_train)\n",
    "    y_pred = model.predict(X_test)\n",
    "    acc = accuracy_score(y_test,y_pred)\n",
    "    prec = precision_score(y_test,y_pred)\n",
    "    rec = recall_score(y_test,y_pred)\n",
    "    f1 = f1_score(y_test,y_pred)\n",
    "    roc_auc = roc_auc_score(y_test,y_pred)\n",
    "    # Adding the results2 to the dataframe without appending\n",
    "    results2.loc[len(results2)] = [name,acc,prec,rec,f1,roc_auc]\n",
    "    \n",
    "results2"
   ]
  },
  {
   "cell_type": "code",
   "execution_count": null,
   "metadata": {},
   "outputs": [],
   "source": []
  }
 ],
 "metadata": {
  "kernelspec": {
   "display_name": ".venv",
   "language": "python",
   "name": "python3"
  },
  "language_info": {
   "codemirror_mode": {
    "name": "ipython",
    "version": 3
   },
   "file_extension": ".py",
   "mimetype": "text/x-python",
   "name": "python",
   "nbconvert_exporter": "python",
   "pygments_lexer": "ipython3",
   "version": "3.10.4"
  },
  "orig_nbformat": 4
 },
 "nbformat": 4,
 "nbformat_minor": 2
}
