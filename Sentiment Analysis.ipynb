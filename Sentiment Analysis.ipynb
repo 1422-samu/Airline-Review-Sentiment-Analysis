{
 "cells": [
  {
   "cell_type": "code",
   "execution_count": 2,
   "metadata": {},
   "outputs": [],
   "source": [
    "# Importing basic libraries\n",
    "\n",
    "import numpy as np\n",
    "import pandas as pd\n",
    "import matplotlib.pyplot as plt\n",
    "import seaborn as sns\n",
    "import re\n",
    "import nltk\n",
    "import string\n",
    "import warnings\n",
    "warnings.filterwarnings(\"ignore\", category=DeprecationWarning)\n",
    "\n",
    "# Importing libraries for sentiment analysis LSTM model\n",
    "\n",
    "import tensorflow as tf\n",
    "import keras\n",
    "from keras.preprocessing.text import Tokenizer\n",
    "from keras.models import Sequential\n",
    "from keras.layers import Dense, Embedding,LSTM,Dropout\n",
    "from keras.callbacks import EarlyStopping\n",
    "from keras.models import load_model\n"
   ]
  },
  {
   "cell_type": "code",
   "execution_count": 3,
   "metadata": {},
   "outputs": [],
   "source": [
    "# Reading the dataset\n",
    "\n",
    "train = pd.read_csv('airline_df_nlped.csv')"
   ]
  },
  {
   "cell_type": "code",
   "execution_count": 4,
   "metadata": {},
   "outputs": [
    {
     "data": {
      "text/html": [
       "<div>\n",
       "<style scoped>\n",
       "    .dataframe tbody tr th:only-of-type {\n",
       "        vertical-align: middle;\n",
       "    }\n",
       "\n",
       "    .dataframe tbody tr th {\n",
       "        vertical-align: top;\n",
       "    }\n",
       "\n",
       "    .dataframe thead th {\n",
       "        text-align: right;\n",
       "    }\n",
       "</style>\n",
       "<table border=\"1\" class=\"dataframe\">\n",
       "  <thead>\n",
       "    <tr style=\"text-align: right;\">\n",
       "      <th></th>\n",
       "      <th>Country</th>\n",
       "      <th>Airline</th>\n",
       "      <th>Review</th>\n",
       "      <th>Sentiment</th>\n",
       "      <th>Cleaned_Review</th>\n",
       "    </tr>\n",
       "  </thead>\n",
       "  <tbody>\n",
       "    <tr>\n",
       "      <th>0</th>\n",
       "      <td>China</td>\n",
       "      <td>Air China</td>\n",
       "      <td>los angeles to beijing return. food low qualit...</td>\n",
       "      <td>Negative</td>\n",
       "      <td>los angeles to beijing return . food low quali...</td>\n",
       "    </tr>\n",
       "    <tr>\n",
       "      <th>1</th>\n",
       "      <td>China</td>\n",
       "      <td>Air China</td>\n",
       "      <td>round to trip from hong kong to munich. the ma...</td>\n",
       "      <td>Negative</td>\n",
       "      <td>round to trip from hong kong to munich . the m...</td>\n",
       "    </tr>\n",
       "    <tr>\n",
       "      <th>2</th>\n",
       "      <td>China</td>\n",
       "      <td>Air China</td>\n",
       "      <td>sydney to beijing to paris then rome to beijin...</td>\n",
       "      <td>Negative</td>\n",
       "      <td>sydney to beijing to paris then rome to beijin...</td>\n",
       "    </tr>\n",
       "    <tr>\n",
       "      <th>3</th>\n",
       "      <td>China</td>\n",
       "      <td>Air China</td>\n",
       "      <td>london to sydney return via beijing. a cheap f...</td>\n",
       "      <td>Negative</td>\n",
       "      <td>london to sydney return via beijing . a cheap ...</td>\n",
       "    </tr>\n",
       "    <tr>\n",
       "      <th>4</th>\n",
       "      <td>China</td>\n",
       "      <td>Air China</td>\n",
       "      <td>beijing to shanghai. only one check to in desk...</td>\n",
       "      <td>Positive</td>\n",
       "      <td>beijing to shanghai . only one check to in des...</td>\n",
       "    </tr>\n",
       "  </tbody>\n",
       "</table>\n",
       "</div>"
      ],
      "text/plain": [
       "  Country    Airline                                             Review  \\\n",
       "0   China  Air China  los angeles to beijing return. food low qualit...   \n",
       "1   China  Air China  round to trip from hong kong to munich. the ma...   \n",
       "2   China  Air China  sydney to beijing to paris then rome to beijin...   \n",
       "3   China  Air China  london to sydney return via beijing. a cheap f...   \n",
       "4   China  Air China  beijing to shanghai. only one check to in desk...   \n",
       "\n",
       "  Sentiment                                     Cleaned_Review  \n",
       "0  Negative  los angeles to beijing return . food low quali...  \n",
       "1  Negative  round to trip from hong kong to munich . the m...  \n",
       "2  Negative  sydney to beijing to paris then rome to beijin...  \n",
       "3  Negative  london to sydney return via beijing . a cheap ...  \n",
       "4  Positive  beijing to shanghai . only one check to in des...  "
      ]
     },
     "execution_count": 4,
     "metadata": {},
     "output_type": "execute_result"
    }
   ],
   "source": [
    "train.head()"
   ]
  },
  {
   "cell_type": "code",
   "execution_count": 5,
   "metadata": {},
   "outputs": [
    {
     "data": {
      "text/plain": [
       "(15206, 5)"
      ]
     },
     "execution_count": 5,
     "metadata": {},
     "output_type": "execute_result"
    }
   ],
   "source": [
    "train.shape"
   ]
  },
  {
   "cell_type": "code",
   "execution_count": 6,
   "metadata": {},
   "outputs": [
    {
     "data": {
      "text/plain": [
       "Country           0\n",
       "Airline           0\n",
       "Review            0\n",
       "Sentiment         0\n",
       "Cleaned_Review    0\n",
       "dtype: int64"
      ]
     },
     "execution_count": 6,
     "metadata": {},
     "output_type": "execute_result"
    }
   ],
   "source": [
    "train.isna().sum()"
   ]
  },
  {
   "cell_type": "code",
   "execution_count": 13,
   "metadata": {},
   "outputs": [],
   "source": [
    "# Model Building\n",
    "\n",
    "# Splitting the dataset into train and test\n",
    "\n",
    "from sklearn.model_selection import train_test_split\n",
    "\n",
    "X = train['Review']\n",
    "\n",
    "y = train['Sentiment']\n",
    "\n",
    "X_train,X_test,y_train,y_test = train_test_split(X,y,test_size=0.2,random_state=42,stratify=y)"
   ]
  },
  {
   "cell_type": "code",
   "execution_count": 15,
   "metadata": {},
   "outputs": [
    {
     "ename": "AttributeError",
     "evalue": "'int' object has no attribute 'lower'",
     "output_type": "error",
     "traceback": [
      "\u001b[1;31m---------------------------------------------------------------------------\u001b[0m",
      "\u001b[1;31mAttributeError\u001b[0m                            Traceback (most recent call last)",
      "Cell \u001b[1;32mIn[15], line 5\u001b[0m\n\u001b[0;32m      1\u001b[0m \u001b[39m# Tokenizing the dataset\u001b[39;00m\n\u001b[0;32m      3\u001b[0m tokenizer \u001b[39m=\u001b[39m Tokenizer(num_words\u001b[39m=\u001b[39m\u001b[39m5000\u001b[39m,split\u001b[39m=\u001b[39m\u001b[39m'\u001b[39m\u001b[39m \u001b[39m\u001b[39m'\u001b[39m)\n\u001b[1;32m----> 5\u001b[0m tokenizer\u001b[39m.\u001b[39;49mfit_on_texts(X_train)\n\u001b[0;32m      7\u001b[0m X_train \u001b[39m=\u001b[39m tokenizer\u001b[39m.\u001b[39mtexts_to_sequences(X_train)\n\u001b[0;32m      9\u001b[0m X_test \u001b[39m=\u001b[39m tokenizer\u001b[39m.\u001b[39mtexts_to_sequences(X_test)\n",
      "File \u001b[1;32md:\\Github\\Airline-Review-Sentiment-Analysis\\.venv\\lib\\site-packages\\keras\\preprocessing\\text.py:287\u001b[0m, in \u001b[0;36mTokenizer.fit_on_texts\u001b[1;34m(self, texts)\u001b[0m\n\u001b[0;32m    285\u001b[0m \u001b[39mif\u001b[39;00m \u001b[39mself\u001b[39m\u001b[39m.\u001b[39mlower:\n\u001b[0;32m    286\u001b[0m     \u001b[39mif\u001b[39;00m \u001b[39misinstance\u001b[39m(text, \u001b[39mlist\u001b[39m):\n\u001b[1;32m--> 287\u001b[0m         text \u001b[39m=\u001b[39m [text_elem\u001b[39m.\u001b[39mlower() \u001b[39mfor\u001b[39;00m text_elem \u001b[39min\u001b[39;00m text]\n\u001b[0;32m    288\u001b[0m     \u001b[39melse\u001b[39;00m:\n\u001b[0;32m    289\u001b[0m         text \u001b[39m=\u001b[39m text\u001b[39m.\u001b[39mlower()\n",
      "File \u001b[1;32md:\\Github\\Airline-Review-Sentiment-Analysis\\.venv\\lib\\site-packages\\keras\\preprocessing\\text.py:287\u001b[0m, in \u001b[0;36m<listcomp>\u001b[1;34m(.0)\u001b[0m\n\u001b[0;32m    285\u001b[0m \u001b[39mif\u001b[39;00m \u001b[39mself\u001b[39m\u001b[39m.\u001b[39mlower:\n\u001b[0;32m    286\u001b[0m     \u001b[39mif\u001b[39;00m \u001b[39misinstance\u001b[39m(text, \u001b[39mlist\u001b[39m):\n\u001b[1;32m--> 287\u001b[0m         text \u001b[39m=\u001b[39m [text_elem\u001b[39m.\u001b[39;49mlower() \u001b[39mfor\u001b[39;00m text_elem \u001b[39min\u001b[39;00m text]\n\u001b[0;32m    288\u001b[0m     \u001b[39melse\u001b[39;00m:\n\u001b[0;32m    289\u001b[0m         text \u001b[39m=\u001b[39m text\u001b[39m.\u001b[39mlower()\n",
      "\u001b[1;31mAttributeError\u001b[0m: 'int' object has no attribute 'lower'"
     ]
    }
   ],
   "source": [
    "# Tokenizing the dataset\n",
    "\n",
    "tokenizer = Tokenizer(num_words=5000,split=' ')\n",
    "\n",
    "tokenizer.fit_on_texts(X_train)\n",
    "\n",
    "X_train = tokenizer.texts_to_sequences(X_train)\n",
    "\n",
    "X_test = tokenizer.texts_to_sequences(X_test)\n",
    "\n",
    "# Padding the dataset\n",
    "\n",
    "from keras.utils import pad_sequences\n",
    "\n",
    "X_train = pad_sequences(X_train,padding='post',maxlen=100)\n",
    "\n",
    "X_test = pad_sequences(X_test,padding='post',maxlen=100)\n",
    "\n",
    "# Building the LSTM model\n",
    "\n",
    "model = Sequential()\n",
    "\n",
    "model.add(Embedding(5000,128,input_length=X_train.shape[1]))\n",
    "\n",
    "# A bidirectional LSTM layer with 64 neurons\n",
    "\n",
    "model.add(LSTM(64,return_sequences=True))\n",
    "\n",
    "model.add(LSTM(64))\n",
    "\n",
    "model.add(Dense(64,activation='relu'))\n",
    "\n",
    "model.add(Dense(1,activation='sigmoid'))\n",
    "\n",
    "model.compile(optimizer='adam',loss='binary_crossentropy',metrics=['accuracy'])\n",
    "\n",
    "model.summary()"
   ]
  },
  {
   "cell_type": "code",
   "execution_count": null,
   "metadata": {},
   "outputs": [],
   "source": []
  }
 ],
 "metadata": {
  "kernelspec": {
   "display_name": ".venv",
   "language": "python",
   "name": "python3"
  },
  "language_info": {
   "codemirror_mode": {
    "name": "ipython",
    "version": 3
   },
   "file_extension": ".py",
   "mimetype": "text/x-python",
   "name": "python",
   "nbconvert_exporter": "python",
   "pygments_lexer": "ipython3",
   "version": "3.10.4"
  },
  "orig_nbformat": 4
 },
 "nbformat": 4,
 "nbformat_minor": 2
}
