{
 "cells": [
  {
   "cell_type": "code",
   "execution_count": 50,
   "metadata": {},
   "outputs": [
    {
     "data": {
      "text/html": [
       "<div>\n",
       "<style scoped>\n",
       "    .dataframe tbody tr th:only-of-type {\n",
       "        vertical-align: middle;\n",
       "    }\n",
       "\n",
       "    .dataframe tbody tr th {\n",
       "        vertical-align: top;\n",
       "    }\n",
       "\n",
       "    .dataframe thead th {\n",
       "        text-align: right;\n",
       "    }\n",
       "</style>\n",
       "<table border=\"1\" class=\"dataframe\">\n",
       "  <thead>\n",
       "    <tr style=\"text-align: right;\">\n",
       "      <th></th>\n",
       "      <th>Country</th>\n",
       "      <th>Airline</th>\n",
       "      <th>Review</th>\n",
       "      <th>Cleaned_Review</th>\n",
       "      <th>Sentiment</th>\n",
       "      <th>Review2</th>\n",
       "      <th>Cleaned_Review2</th>\n",
       "    </tr>\n",
       "  </thead>\n",
       "  <tbody>\n",
       "    <tr>\n",
       "      <th>0</th>\n",
       "      <td>China</td>\n",
       "      <td>Air China</td>\n",
       "      <td>los angeles beijing return food low quality st...</td>\n",
       "      <td>los angeles beijing return food quality staff ...</td>\n",
       "      <td>Negative</td>\n",
       "      <td>los angeles beijing return food low quality st...</td>\n",
       "      <td>los angeles beijing return food quality staff ...</td>\n",
       "    </tr>\n",
       "    <tr>\n",
       "      <th>1</th>\n",
       "      <td>China</td>\n",
       "      <td>Air China</td>\n",
       "      <td>round trip from hong kong to munich the main r...</td>\n",
       "      <td>round trip hong kong munich main reason fly ai...</td>\n",
       "      <td>Negative</td>\n",
       "      <td>round trip from hong kong to munich the main r...</td>\n",
       "      <td>round trip hong kong munich main reason fly ai...</td>\n",
       "    </tr>\n",
       "    <tr>\n",
       "      <th>2</th>\n",
       "      <td>China</td>\n",
       "      <td>Air China</td>\n",
       "      <td>sydney beijing paris then rome beijing to sydn...</td>\n",
       "      <td>sydney beijing paris rome beijing sydney famil...</td>\n",
       "      <td>Negative</td>\n",
       "      <td>sydney beijing paris then rome beijing to sydn...</td>\n",
       "      <td>sydney beijing paris rome beijing sydney famil...</td>\n",
       "    </tr>\n",
       "    <tr>\n",
       "      <th>3</th>\n",
       "      <td>China</td>\n",
       "      <td>Air China</td>\n",
       "      <td>london to sydney return via beijing a cheap fl...</td>\n",
       "      <td>london sydney return beijing cheap flight live...</td>\n",
       "      <td>Negative</td>\n",
       "      <td>london to sydney return via beijing a cheap fl...</td>\n",
       "      <td>london sydney return beijing cheap flight live...</td>\n",
       "    </tr>\n",
       "    <tr>\n",
       "      <th>4</th>\n",
       "      <td>China</td>\n",
       "      <td>Air China</td>\n",
       "      <td>beijing to shanghai only one check in desk for...</td>\n",
       "      <td>beijing shanghai check desk standby passenger ...</td>\n",
       "      <td>Positive</td>\n",
       "      <td>beijing to shanghai only one check in desk for...</td>\n",
       "      <td>beijing shanghai check desk standby passenger ...</td>\n",
       "    </tr>\n",
       "    <tr>\n",
       "      <th>5</th>\n",
       "      <td>China</td>\n",
       "      <td>Air China</td>\n",
       "      <td>stockholm bangkok via beijing return flight ba...</td>\n",
       "      <td>stockholm bangkok beijing return flight bangko...</td>\n",
       "      <td>Negative</td>\n",
       "      <td>stockholm bangkok via beijing return flight ba...</td>\n",
       "      <td>stockholm bangkok beijing return flight bangko...</td>\n",
       "    </tr>\n",
       "    <tr>\n",
       "      <th>6</th>\n",
       "      <td>China</td>\n",
       "      <td>Air China</td>\n",
       "      <td>vancouver to hong kong via beijing seating be ...</td>\n",
       "      <td>vancouver hong kong beijing seating comfortabl...</td>\n",
       "      <td>Positive</td>\n",
       "      <td>vancouver to hong kong via beijing seating be ...</td>\n",
       "      <td>vancouver hong kong beijing seating comfortabl...</td>\n",
       "    </tr>\n",
       "    <tr>\n",
       "      <th>7</th>\n",
       "      <td>China</td>\n",
       "      <td>Air China</td>\n",
       "      <td>vancouver to beijing return in economy my vege...</td>\n",
       "      <td>vancouver beijing return economy vegetarian me...</td>\n",
       "      <td>Positive</td>\n",
       "      <td>vancouver to beijing return in economy my vege...</td>\n",
       "      <td>vancouver beijing return economy vegetarian me...</td>\n",
       "    </tr>\n",
       "    <tr>\n",
       "      <th>8</th>\n",
       "      <td>China</td>\n",
       "      <td>Air China</td>\n",
       "      <td>hong kong ) bjs on a321 old look plane but be ...</td>\n",
       "      <td>hong kong ) bjs a321 plane clean modern domest...</td>\n",
       "      <td>Positive</td>\n",
       "      <td>hong kong ) bjs on a321 old look plane but be ...</td>\n",
       "      <td>hong kong ) bjs a321 plane clean modern domest...</td>\n",
       "    </tr>\n",
       "    <tr>\n",
       "      <th>9</th>\n",
       "      <td>China</td>\n",
       "      <td>Air China</td>\n",
       "      <td>dus beijing manila return 2 5 hour delay to be...</td>\n",
       "      <td>dus beijing manila return 2 5 hour delay beiji...</td>\n",
       "      <td>Negative</td>\n",
       "      <td>dus beijing manila return hour delay to beijin...</td>\n",
       "      <td>dus beijing manila return hour delay beijing d...</td>\n",
       "    </tr>\n",
       "    <tr>\n",
       "      <th>10</th>\n",
       "      <td>China</td>\n",
       "      <td>Air China</td>\n",
       "      <td>athens munich beijing munich athens on time a3...</td>\n",
       "      <td>athens munich beijing munich athens time a332 ...</td>\n",
       "      <td>Positive</td>\n",
       "      <td>athens munich beijing munich athens on time a3...</td>\n",
       "      <td>athens munich beijing munich athens time a332 ...</td>\n",
       "    </tr>\n",
       "    <tr>\n",
       "      <th>11</th>\n",
       "      <td>China</td>\n",
       "      <td>Air China</td>\n",
       "      <td>san francisco beijing in economy rebooke on ca...</td>\n",
       "      <td>san francisco beijing economy rebooke ua delay...</td>\n",
       "      <td>Negative</td>\n",
       "      <td>san francisco beijing in economy rebooke on ca...</td>\n",
       "      <td>san francisco beijing economy rebooke ua delay...</td>\n",
       "    </tr>\n",
       "    <tr>\n",
       "      <th>12</th>\n",
       "      <td>China</td>\n",
       "      <td>Air China</td>\n",
       "      <td>hong kong paris via beijing price of this trip...</td>\n",
       "      <td>hong kong paris beijing price trip outstanding...</td>\n",
       "      <td>Positive</td>\n",
       "      <td>hong kong paris via beijing price of this trip...</td>\n",
       "      <td>hong kong paris beijing price trip outstanding...</td>\n",
       "    </tr>\n",
       "    <tr>\n",
       "      <th>13</th>\n",
       "      <td>China</td>\n",
       "      <td>Air China</td>\n",
       "      <td>melbourne to shanghai then onto london return ...</td>\n",
       "      <td>melbourne shanghai london return book air chin...</td>\n",
       "      <td>Positive</td>\n",
       "      <td>melbourne to shanghai then onto london return ...</td>\n",
       "      <td>melbourne shanghai london return book air chin...</td>\n",
       "    </tr>\n",
       "    <tr>\n",
       "      <th>14</th>\n",
       "      <td>China</td>\n",
       "      <td>Air China</td>\n",
       "      <td>fly beijing direct to new york city a 13 5 hou...</td>\n",
       "      <td>fly beijing direct york city 13 5 hour flight ...</td>\n",
       "      <td>Negative</td>\n",
       "      <td>fly beijing direct to new york city a hour fli...</td>\n",
       "      <td>fly beijing direct york city hour flight horri...</td>\n",
       "    </tr>\n",
       "    <tr>\n",
       "      <th>15</th>\n",
       "      <td>China</td>\n",
       "      <td>Air China</td>\n",
       "      <td>beijing frankfurt on 777 economy seat be fine ...</td>\n",
       "      <td>beijing frankfurt 777 economy seat fine inflig...</td>\n",
       "      <td>Negative</td>\n",
       "      <td>beijing frankfurt on economy seat be fine and ...</td>\n",
       "      <td>beijing frankfurt economy seat fine inflight e...</td>\n",
       "    </tr>\n",
       "    <tr>\n",
       "      <th>16</th>\n",
       "      <td>China</td>\n",
       "      <td>Air China</td>\n",
       "      <td>sydney beijing the seat entertainment and serv...</td>\n",
       "      <td>sydney beijing seat entertainment service aver...</td>\n",
       "      <td>Negative</td>\n",
       "      <td>sydney beijing the seat entertainment and serv...</td>\n",
       "      <td>sydney beijing seat entertainment service aver...</td>\n",
       "    </tr>\n",
       "    <tr>\n",
       "      <th>17</th>\n",
       "      <td>China</td>\n",
       "      <td>Air China</td>\n",
       "      <td>london beijing overnight return shanghai beiji...</td>\n",
       "      <td>london beijing overnight return shanghai beiji...</td>\n",
       "      <td>Negative</td>\n",
       "      <td>london beijing overnight return shanghai beiji...</td>\n",
       "      <td>london beijing overnight return shanghai beiji...</td>\n",
       "    </tr>\n",
       "    <tr>\n",
       "      <th>18</th>\n",
       "      <td>China</td>\n",
       "      <td>Air China</td>\n",
       "      <td>london beijing return in economy do the same j...</td>\n",
       "      <td>london beijing return economy journey time enj...</td>\n",
       "      <td>Positive</td>\n",
       "      <td>london beijing return in economy do the same j...</td>\n",
       "      <td>london beijing return economy journey time enj...</td>\n",
       "    </tr>\n",
       "    <tr>\n",
       "      <th>19</th>\n",
       "      <td>China</td>\n",
       "      <td>Air China</td>\n",
       "      <td>paris to beijing in business class on a 777 30...</td>\n",
       "      <td>paris beijing business class 777 300 return sh...</td>\n",
       "      <td>Positive</td>\n",
       "      <td>paris to beijing in business class on a and re...</td>\n",
       "      <td>paris beijing business class return shanghai p...</td>\n",
       "    </tr>\n",
       "  </tbody>\n",
       "</table>\n",
       "</div>"
      ],
      "text/plain": [
       "   Country    Airline                                             Review  \\\n",
       "0    China  Air China  los angeles beijing return food low quality st...   \n",
       "1    China  Air China  round trip from hong kong to munich the main r...   \n",
       "2    China  Air China  sydney beijing paris then rome beijing to sydn...   \n",
       "3    China  Air China  london to sydney return via beijing a cheap fl...   \n",
       "4    China  Air China  beijing to shanghai only one check in desk for...   \n",
       "5    China  Air China  stockholm bangkok via beijing return flight ba...   \n",
       "6    China  Air China  vancouver to hong kong via beijing seating be ...   \n",
       "7    China  Air China  vancouver to beijing return in economy my vege...   \n",
       "8    China  Air China  hong kong ) bjs on a321 old look plane but be ...   \n",
       "9    China  Air China  dus beijing manila return 2 5 hour delay to be...   \n",
       "10   China  Air China  athens munich beijing munich athens on time a3...   \n",
       "11   China  Air China  san francisco beijing in economy rebooke on ca...   \n",
       "12   China  Air China  hong kong paris via beijing price of this trip...   \n",
       "13   China  Air China  melbourne to shanghai then onto london return ...   \n",
       "14   China  Air China  fly beijing direct to new york city a 13 5 hou...   \n",
       "15   China  Air China  beijing frankfurt on 777 economy seat be fine ...   \n",
       "16   China  Air China  sydney beijing the seat entertainment and serv...   \n",
       "17   China  Air China  london beijing overnight return shanghai beiji...   \n",
       "18   China  Air China  london beijing return in economy do the same j...   \n",
       "19   China  Air China  paris to beijing in business class on a 777 30...   \n",
       "\n",
       "                                       Cleaned_Review Sentiment  \\\n",
       "0   los angeles beijing return food quality staff ...  Negative   \n",
       "1   round trip hong kong munich main reason fly ai...  Negative   \n",
       "2   sydney beijing paris rome beijing sydney famil...  Negative   \n",
       "3   london sydney return beijing cheap flight live...  Negative   \n",
       "4   beijing shanghai check desk standby passenger ...  Positive   \n",
       "5   stockholm bangkok beijing return flight bangko...  Negative   \n",
       "6   vancouver hong kong beijing seating comfortabl...  Positive   \n",
       "7   vancouver beijing return economy vegetarian me...  Positive   \n",
       "8   hong kong ) bjs a321 plane clean modern domest...  Positive   \n",
       "9   dus beijing manila return 2 5 hour delay beiji...  Negative   \n",
       "10  athens munich beijing munich athens time a332 ...  Positive   \n",
       "11  san francisco beijing economy rebooke ua delay...  Negative   \n",
       "12  hong kong paris beijing price trip outstanding...  Positive   \n",
       "13  melbourne shanghai london return book air chin...  Positive   \n",
       "14  fly beijing direct york city 13 5 hour flight ...  Negative   \n",
       "15  beijing frankfurt 777 economy seat fine inflig...  Negative   \n",
       "16  sydney beijing seat entertainment service aver...  Negative   \n",
       "17  london beijing overnight return shanghai beiji...  Negative   \n",
       "18  london beijing return economy journey time enj...  Positive   \n",
       "19  paris beijing business class 777 300 return sh...  Positive   \n",
       "\n",
       "                                              Review2  \\\n",
       "0   los angeles beijing return food low quality st...   \n",
       "1   round trip from hong kong to munich the main r...   \n",
       "2   sydney beijing paris then rome beijing to sydn...   \n",
       "3   london to sydney return via beijing a cheap fl...   \n",
       "4   beijing to shanghai only one check in desk for...   \n",
       "5   stockholm bangkok via beijing return flight ba...   \n",
       "6   vancouver to hong kong via beijing seating be ...   \n",
       "7   vancouver to beijing return in economy my vege...   \n",
       "8   hong kong ) bjs on a321 old look plane but be ...   \n",
       "9   dus beijing manila return hour delay to beijin...   \n",
       "10  athens munich beijing munich athens on time a3...   \n",
       "11  san francisco beijing in economy rebooke on ca...   \n",
       "12  hong kong paris via beijing price of this trip...   \n",
       "13  melbourne to shanghai then onto london return ...   \n",
       "14  fly beijing direct to new york city a hour fli...   \n",
       "15  beijing frankfurt on economy seat be fine and ...   \n",
       "16  sydney beijing the seat entertainment and serv...   \n",
       "17  london beijing overnight return shanghai beiji...   \n",
       "18  london beijing return in economy do the same j...   \n",
       "19  paris to beijing in business class on a and re...   \n",
       "\n",
       "                                      Cleaned_Review2  \n",
       "0   los angeles beijing return food quality staff ...  \n",
       "1   round trip hong kong munich main reason fly ai...  \n",
       "2   sydney beijing paris rome beijing sydney famil...  \n",
       "3   london sydney return beijing cheap flight live...  \n",
       "4   beijing shanghai check desk standby passenger ...  \n",
       "5   stockholm bangkok beijing return flight bangko...  \n",
       "6   vancouver hong kong beijing seating comfortabl...  \n",
       "7   vancouver beijing return economy vegetarian me...  \n",
       "8   hong kong ) bjs a321 plane clean modern domest...  \n",
       "9   dus beijing manila return hour delay beijing d...  \n",
       "10  athens munich beijing munich athens time a332 ...  \n",
       "11  san francisco beijing economy rebooke ua delay...  \n",
       "12  hong kong paris beijing price trip outstanding...  \n",
       "13  melbourne shanghai london return book air chin...  \n",
       "14  fly beijing direct york city hour flight horri...  \n",
       "15  beijing frankfurt economy seat fine inflight e...  \n",
       "16  sydney beijing seat entertainment service aver...  \n",
       "17  london beijing overnight return shanghai beiji...  \n",
       "18  london beijing return economy journey time enj...  \n",
       "19  paris beijing business class return shanghai p...  "
      ]
     },
     "execution_count": 50,
     "metadata": {},
     "output_type": "execute_result"
    }
   ],
   "source": [
    "# Importing some basic libraries\n",
    "\n",
    "import numpy as np\n",
    "import pandas as pd\n",
    "\n",
    "# Importing the dataset\n",
    "\n",
    "air = pd.read_csv('airline_df_nlped.csv')\n",
    "air.head(20)"
   ]
  },
  {
   "cell_type": "code",
   "execution_count": 84,
   "metadata": {},
   "outputs": [
    {
     "data": {
      "text/plain": [
       "'paris to beijing in business class on a and return from shanghai to paris in business class on a340 seating on the be outstanding with new seat large tv screen and a configuration on the a340 the configuration be the same but there be old seat small tv screen though I can not complain about seating on both leg staff be friendly and attentive what be unsatisfying be the quality of the meal I have seldom taste such bland food and the presentation be horrible before take off only orange juice and water be serve wine good selection of french wine be outstanding but must have be very expensive because there be no second serve nor be liquor offer at the end of the meal another drawback be the total absence of read material in english or in french except a few china daily newspaper a large proportion of the offer movie be oldie if you be not interested in food if you bring your own reading material air china be a good option as it be cheap and not too many people fly it so you have plenty of space'"
      ]
     },
     "execution_count": 84,
     "metadata": {},
     "output_type": "execute_result"
    }
   ],
   "source": [
    "air['Review2'][19]"
   ]
  },
  {
   "cell_type": "code",
   "execution_count": 2,
   "metadata": {},
   "outputs": [],
   "source": [
    "from transformers import AutoTokenizer, AutoModelForSequenceClassification\n",
    "import torch"
   ]
  },
  {
   "cell_type": "markdown",
   "metadata": {},
   "source": [
    "tokenizer = AutoTokenizer.from_pretrained(\"nlptown/bert-base-multilingual-uncased-sentiment\")\n",
    "model = AutoModelForSequenceClassification.from_pretrained(\"nlptown/bert-base-multilingual-uncased-sentiment\")"
   ]
  },
  {
   "cell_type": "code",
   "execution_count": 37,
   "metadata": {},
   "outputs": [
    {
     "data": {
      "application/vnd.jupyter.widget-view+json": {
       "model_id": "ede8832f98d043e3ad0d8ae78fcc6753",
       "version_major": 2,
       "version_minor": 0
      },
      "text/plain": [
       "Downloading (…)lve/main/config.json:   0%|          | 0.00/929 [00:00<?, ?B/s]"
      ]
     },
     "metadata": {},
     "output_type": "display_data"
    },
    {
     "name": "stderr",
     "output_type": "stream",
     "text": [
      "d:\\Github\\Airline-Review-Sentiment-Analysis\\.venv\\lib\\site-packages\\huggingface_hub\\file_download.py:133: UserWarning: `huggingface_hub` cache-system uses symlinks by default to efficiently store duplicated files but your machine does not support them in C:\\Users\\harsh\\.cache\\huggingface\\hub. Caching files will still work but in a degraded version that might require more space on your disk. This warning can be disabled by setting the `HF_HUB_DISABLE_SYMLINKS_WARNING` environment variable. For more details, see https://huggingface.co/docs/huggingface_hub/how-to-cache#limitations.\n",
      "To support symlinks on Windows, you either need to activate Developer Mode or to run Python as an administrator. In order to see activate developer mode, see this article: https://docs.microsoft.com/en-us/windows/apps/get-started/enable-your-device-for-development\n",
      "  warnings.warn(message)\n"
     ]
    },
    {
     "data": {
      "application/vnd.jupyter.widget-view+json": {
       "model_id": "546c08c9d6044500b66ba3a7353af524",
       "version_major": 2,
       "version_minor": 0
      },
      "text/plain": [
       "Downloading (…)olve/main/vocab.json:   0%|          | 0.00/899k [00:00<?, ?B/s]"
      ]
     },
     "metadata": {},
     "output_type": "display_data"
    },
    {
     "data": {
      "application/vnd.jupyter.widget-view+json": {
       "model_id": "2b5511ec05ca487997ffcb04fd248734",
       "version_major": 2,
       "version_minor": 0
      },
      "text/plain": [
       "Downloading (…)olve/main/merges.txt:   0%|          | 0.00/456k [00:00<?, ?B/s]"
      ]
     },
     "metadata": {},
     "output_type": "display_data"
    },
    {
     "data": {
      "application/vnd.jupyter.widget-view+json": {
       "model_id": "8b46aac6c8904130b9ff89c6371c2f0c",
       "version_major": 2,
       "version_minor": 0
      },
      "text/plain": [
       "Downloading (…)cial_tokens_map.json:   0%|          | 0.00/239 [00:00<?, ?B/s]"
      ]
     },
     "metadata": {},
     "output_type": "display_data"
    },
    {
     "data": {
      "application/vnd.jupyter.widget-view+json": {
       "model_id": "39bc97c457db439cafb957236a2b587a",
       "version_major": 2,
       "version_minor": 0
      },
      "text/plain": [
       "Downloading pytorch_model.bin:   0%|          | 0.00/501M [00:00<?, ?B/s]"
      ]
     },
     "metadata": {},
     "output_type": "display_data"
    },
    {
     "name": "stderr",
     "output_type": "stream",
     "text": [
      "Some weights of the model checkpoint at cardiffnlp/twitter-roberta-base-sentiment-latest were not used when initializing RobertaForSequenceClassification: ['roberta.pooler.dense.weight', 'roberta.pooler.dense.bias']\n",
      "- This IS expected if you are initializing RobertaForSequenceClassification from the checkpoint of a model trained on another task or with another architecture (e.g. initializing a BertForSequenceClassification model from a BertForPreTraining model).\n",
      "- This IS NOT expected if you are initializing RobertaForSequenceClassification from the checkpoint of a model that you expect to be exactly identical (initializing a BertForSequenceClassification model from a BertForSequenceClassification model).\n"
     ]
    }
   ],
   "source": [
    "tokenizer = AutoTokenizer.from_pretrained(\"cardiffnlp/twitter-roberta-base-sentiment-latest\")\n",
    "model = AutoModelForSequenceClassification.from_pretrained(\"cardiffnlp/twitter-roberta-base-sentiment-latest\")"
   ]
  },
  {
   "cell_type": "code",
   "execution_count": 85,
   "metadata": {},
   "outputs": [],
   "source": [
    "tokens = tokenizer.encode(\"paris to beijing in business class on a and return from shanghai to paris in business class on a340 seating on the be outstanding with new seat large tv screen and a configuration on the a340 the configuration be the same but there be old seat small tv screen though I can not complain about seating on both leg staff be friendly and attentive what be unsatisfying be the quality of the meal I have seldom taste such bland food and the presentation be horrible before take off only orange juice and water be serve wine good selection of french wine be outstanding but must have be very expensive because there be no second serve nor be liquor offer at the end of the meal another drawback be the total absence of read material in english or in french except a few china daily newspaper a large proportion of the offer movie be oldie if you be not interested in food if you bring your own reading material air china be a good option as it be cheap and not too many people fly it so you have plenty of space\",return_tensors='pt')"
   ]
  },
  {
   "cell_type": "code",
   "execution_count": 86,
   "metadata": {},
   "outputs": [
    {
     "data": {
      "text/plain": [
       "tensor([[    0,  5489,   354,     7,    28, 40049,    11,   265,  1380,    15,\n",
       "            10,     8,   671,    31,  1481,   260, 43673,     7,  2242,   354,\n",
       "            11,   265,  1380,    15,    10, 24334, 14591,    15,     5,    28,\n",
       "          3973,    19,    92,  2418,   739, 30016,  2441,     8,    10, 20393,\n",
       "            15,     5,    10, 24334,     5, 20393,    28,     5,   276,    53,\n",
       "            89,    28,   793,  2418,   650, 30016,  2441,   600,    38,    64,\n",
       "            45, 11316,    59, 14591,    15,   258,  2985,   813,    28,  5192,\n",
       "             8, 36670,    99,    28, 36010,  4048,    28,     5,  1318,     9,\n",
       "             5,  5820,    38,    33, 28010,  5840,   215, 35063,   689,     8,\n",
       "             5,  5209,    28, 11385,   137,   185,   160,   129,  8978, 10580,\n",
       "             8,   514,    28,  1807,  3984,   205,  4230,     9, 41259,  3984,\n",
       "            28,  3973,    53,   531,    33,    28,   182,  3214,   142,    89,\n",
       "            28,   117,   200,  1807,  3486,    28, 13782,   904,    23,     5,\n",
       "           253,     9,     5,  5820,   277, 41113,    28,     5,   746,  5171,\n",
       "             9,  1166,  1468,    11, 47510,    50,    11, 41259,  4682,    10,\n",
       "           367,  1855,  1243,  1230,  2924,    10,   739, 10301,     9,     5,\n",
       "           904,  1569,    28,   793,   324,   114,    47,    28,    45,  2509,\n",
       "            11,   689,   114,    47,   836,   110,   308,  2600,  1468,   935,\n",
       "          1855,  1243,    28,    10,   205,  1973,    25,    24,    28,  6162,\n",
       "             8,    45,   350,   171,    82,  3598,    24,    98,    47,    33,\n",
       "          2710,     9,   980,     2]])"
      ]
     },
     "execution_count": 86,
     "metadata": {},
     "output_type": "execute_result"
    }
   ],
   "source": [
    "tokens"
   ]
  },
  {
   "cell_type": "code",
   "execution_count": 87,
   "metadata": {},
   "outputs": [
    {
     "data": {
      "text/plain": [
       "'<s>paris to beijing in business class on a and return from shanghai to paris in business class on a340 seating on the be outstanding with new seat large tv screen and a configuration on the a340 the configuration be the same but there be old seat small tv screen though I can not complain about seating on both leg staff be friendly and attentive what be unsatisfying be the quality of the meal I have seldom taste such bland food and the presentation be horrible before take off only orange juice and water be serve wine good selection of french wine be outstanding but must have be very expensive because there be no second serve nor be liquor offer at the end of the meal another drawback be the total absence of read material in english or in french except a few china daily newspaper a large proportion of the offer movie be oldie if you be not interested in food if you bring your own reading material air china be a good option as it be cheap and not too many people fly it so you have plenty of space</s>'"
      ]
     },
     "execution_count": 87,
     "metadata": {},
     "output_type": "execute_result"
    }
   ],
   "source": [
    "tokenizer.decode(tokens[0])"
   ]
  },
  {
   "cell_type": "code",
   "execution_count": 88,
   "metadata": {},
   "outputs": [
    {
     "data": {
      "text/plain": [
       "SequenceClassifierOutput(loss=None, logits=tensor([[-0.2000,  0.7251, -0.9075]], grad_fn=<AddmmBackward0>), hidden_states=None, attentions=None)"
      ]
     },
     "execution_count": 88,
     "metadata": {},
     "output_type": "execute_result"
    }
   ],
   "source": [
    "reults = model(tokens)\n",
    "reults"
   ]
  },
  {
   "cell_type": "code",
   "execution_count": 89,
   "metadata": {},
   "outputs": [
    {
     "data": {
      "text/plain": [
       "1"
      ]
     },
     "execution_count": 89,
     "metadata": {},
     "output_type": "execute_result"
    }
   ],
   "source": [
    "int(torch.argmax(reults.logits))"
   ]
  },
  {
   "cell_type": "code",
   "execution_count": null,
   "metadata": {},
   "outputs": [],
   "source": []
  }
 ],
 "metadata": {
  "kernelspec": {
   "display_name": ".venv",
   "language": "python",
   "name": "python3"
  },
  "language_info": {
   "codemirror_mode": {
    "name": "ipython",
    "version": 3
   },
   "file_extension": ".py",
   "mimetype": "text/x-python",
   "name": "python",
   "nbconvert_exporter": "python",
   "pygments_lexer": "ipython3",
   "version": "3.10.4"
  },
  "orig_nbformat": 4
 },
 "nbformat": 4,
 "nbformat_minor": 2
}
