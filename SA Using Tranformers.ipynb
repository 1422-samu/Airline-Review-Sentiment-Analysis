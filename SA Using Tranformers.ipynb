{
 "cells": [
  {
   "cell_type": "code",
   "execution_count": 12,
   "metadata": {},
   "outputs": [
    {
     "data": {
      "text/html": [
       "<div>\n",
       "<style scoped>\n",
       "    .dataframe tbody tr th:only-of-type {\n",
       "        vertical-align: middle;\n",
       "    }\n",
       "\n",
       "    .dataframe tbody tr th {\n",
       "        vertical-align: top;\n",
       "    }\n",
       "\n",
       "    .dataframe thead th {\n",
       "        text-align: right;\n",
       "    }\n",
       "</style>\n",
       "<table border=\"1\" class=\"dataframe\">\n",
       "  <thead>\n",
       "    <tr style=\"text-align: right;\">\n",
       "      <th></th>\n",
       "      <th>Country</th>\n",
       "      <th>Airline</th>\n",
       "      <th>Review</th>\n",
       "      <th>Review_LS</th>\n",
       "      <th>Sentiment</th>\n",
       "    </tr>\n",
       "  </thead>\n",
       "  <tbody>\n",
       "    <tr>\n",
       "      <th>0</th>\n",
       "      <td>China</td>\n",
       "      <td>Air China</td>\n",
       "      <td>los angeles beijing return. food low quality s...</td>\n",
       "      <td>los angeles beijing return . food quality staf...</td>\n",
       "      <td>0</td>\n",
       "    </tr>\n",
       "    <tr>\n",
       "      <th>1</th>\n",
       "      <td>China</td>\n",
       "      <td>Air China</td>\n",
       "      <td>round trip from hong kong to munich. the main ...</td>\n",
       "      <td>round trip hong kong munich . main reason fly ...</td>\n",
       "      <td>0</td>\n",
       "    </tr>\n",
       "    <tr>\n",
       "      <th>2</th>\n",
       "      <td>China</td>\n",
       "      <td>Air China</td>\n",
       "      <td>sydney beijing paris then rome beijing to sydn...</td>\n",
       "      <td>sydney beijing paris rome beijing sydney famil...</td>\n",
       "      <td>0</td>\n",
       "    </tr>\n",
       "    <tr>\n",
       "      <th>3</th>\n",
       "      <td>China</td>\n",
       "      <td>Air China</td>\n",
       "      <td>london to sydney return via beijing. a cheap f...</td>\n",
       "      <td>london sydney return beijing . cheap flight li...</td>\n",
       "      <td>0</td>\n",
       "    </tr>\n",
       "    <tr>\n",
       "      <th>4</th>\n",
       "      <td>China</td>\n",
       "      <td>Air China</td>\n",
       "      <td>beijing to shanghai. only one check in desk fo...</td>\n",
       "      <td>beijing shanghai . check desk standby passenge...</td>\n",
       "      <td>1</td>\n",
       "    </tr>\n",
       "    <tr>\n",
       "      <th>5</th>\n",
       "      <td>China</td>\n",
       "      <td>Air China</td>\n",
       "      <td>stockholm bangkok via beijing. return flight b...</td>\n",
       "      <td>stockholm bangkok beijing . return flight bang...</td>\n",
       "      <td>0</td>\n",
       "    </tr>\n",
       "    <tr>\n",
       "      <th>6</th>\n",
       "      <td>China</td>\n",
       "      <td>Air China</td>\n",
       "      <td>vancouver to hong kong via beijing. seating wa...</td>\n",
       "      <td>vancouver hong kong beijing . seating comforta...</td>\n",
       "      <td>0</td>\n",
       "    </tr>\n",
       "    <tr>\n",
       "      <th>7</th>\n",
       "      <td>China</td>\n",
       "      <td>Air China</td>\n",
       "      <td>vancouver to beijing return in economy. my veg...</td>\n",
       "      <td>vancouver beijing return economy . vegetarian ...</td>\n",
       "      <td>1</td>\n",
       "    </tr>\n",
       "    <tr>\n",
       "      <th>8</th>\n",
       "      <td>China</td>\n",
       "      <td>Air China</td>\n",
       "      <td>hong kong) bjs on a321. old looking plane but ...</td>\n",
       "      <td>hong kong ) bjs a321 . plane clean modern dome...</td>\n",
       "      <td>0</td>\n",
       "    </tr>\n",
       "    <tr>\n",
       "      <th>9</th>\n",
       "      <td>China</td>\n",
       "      <td>Air China</td>\n",
       "      <td>dus beijing manila return. 2.5 hours delay to ...</td>\n",
       "      <td>dus beijing manila return . 2.5 hour delay bei...</td>\n",
       "      <td>0</td>\n",
       "    </tr>\n",
       "    <tr>\n",
       "      <th>10</th>\n",
       "      <td>China</td>\n",
       "      <td>Air China</td>\n",
       "      <td>athens munich beijing munich athens on time a3...</td>\n",
       "      <td>athens munich beijing munich athens time a332 ...</td>\n",
       "      <td>1</td>\n",
       "    </tr>\n",
       "    <tr>\n",
       "      <th>11</th>\n",
       "      <td>China</td>\n",
       "      <td>Air China</td>\n",
       "      <td>san francisco beijing in economy. rebooked on ...</td>\n",
       "      <td>san francisco beijing economy . rebooke ua del...</td>\n",
       "      <td>0</td>\n",
       "    </tr>\n",
       "    <tr>\n",
       "      <th>12</th>\n",
       "      <td>China</td>\n",
       "      <td>Air China</td>\n",
       "      <td>hong kong paris via beijing. price of this tri...</td>\n",
       "      <td>hong kong paris beijing . price trip excellent...</td>\n",
       "      <td>0</td>\n",
       "    </tr>\n",
       "    <tr>\n",
       "      <th>13</th>\n",
       "      <td>China</td>\n",
       "      <td>Air China</td>\n",
       "      <td>melbourne to shanghai then onto london return....</td>\n",
       "      <td>melbourne shanghai london return . book air ch...</td>\n",
       "      <td>1</td>\n",
       "    </tr>\n",
       "    <tr>\n",
       "      <th>14</th>\n",
       "      <td>China</td>\n",
       "      <td>Air China</td>\n",
       "      <td>flew beijing direct to jfk. a 13.5 hour flight...</td>\n",
       "      <td>fly beijing direct jfk . 13.5 hour flight 2 ho...</td>\n",
       "      <td>0</td>\n",
       "    </tr>\n",
       "    <tr>\n",
       "      <th>15</th>\n",
       "      <td>China</td>\n",
       "      <td>Air China</td>\n",
       "      <td>beijing frankfurt on 777 economy. seats were f...</td>\n",
       "      <td>beijing frankfurt 777 economy . seat fine infl...</td>\n",
       "      <td>0</td>\n",
       "    </tr>\n",
       "    <tr>\n",
       "      <th>16</th>\n",
       "      <td>China</td>\n",
       "      <td>Air China</td>\n",
       "      <td>sydney pek. the seats entertainment and servic...</td>\n",
       "      <td>sydney pek . seat entertainment service averag...</td>\n",
       "      <td>0</td>\n",
       "    </tr>\n",
       "    <tr>\n",
       "      <th>17</th>\n",
       "      <td>China</td>\n",
       "      <td>Air China</td>\n",
       "      <td>london beijing overnight return shanghai beiji...</td>\n",
       "      <td>london beijing overnight return shanghai beiji...</td>\n",
       "      <td>0</td>\n",
       "    </tr>\n",
       "    <tr>\n",
       "      <th>18</th>\n",
       "      <td>China</td>\n",
       "      <td>Air China</td>\n",
       "      <td>london beijing return in economy. did the same...</td>\n",
       "      <td>london beijing return economy . journey time e...</td>\n",
       "      <td>1</td>\n",
       "    </tr>\n",
       "    <tr>\n",
       "      <th>19</th>\n",
       "      <td>China</td>\n",
       "      <td>Air China</td>\n",
       "      <td>paris to beijing in business class on a 777 30...</td>\n",
       "      <td>paris beijing business class 777 300 return sh...</td>\n",
       "      <td>0</td>\n",
       "    </tr>\n",
       "  </tbody>\n",
       "</table>\n",
       "</div>"
      ],
      "text/plain": [
       "   Country    Airline                                             Review  \\\n",
       "0    China  Air China  los angeles beijing return. food low quality s...   \n",
       "1    China  Air China  round trip from hong kong to munich. the main ...   \n",
       "2    China  Air China  sydney beijing paris then rome beijing to sydn...   \n",
       "3    China  Air China  london to sydney return via beijing. a cheap f...   \n",
       "4    China  Air China  beijing to shanghai. only one check in desk fo...   \n",
       "5    China  Air China  stockholm bangkok via beijing. return flight b...   \n",
       "6    China  Air China  vancouver to hong kong via beijing. seating wa...   \n",
       "7    China  Air China  vancouver to beijing return in economy. my veg...   \n",
       "8    China  Air China  hong kong) bjs on a321. old looking plane but ...   \n",
       "9    China  Air China  dus beijing manila return. 2.5 hours delay to ...   \n",
       "10   China  Air China  athens munich beijing munich athens on time a3...   \n",
       "11   China  Air China  san francisco beijing in economy. rebooked on ...   \n",
       "12   China  Air China  hong kong paris via beijing. price of this tri...   \n",
       "13   China  Air China  melbourne to shanghai then onto london return....   \n",
       "14   China  Air China  flew beijing direct to jfk. a 13.5 hour flight...   \n",
       "15   China  Air China  beijing frankfurt on 777 economy. seats were f...   \n",
       "16   China  Air China  sydney pek. the seats entertainment and servic...   \n",
       "17   China  Air China  london beijing overnight return shanghai beiji...   \n",
       "18   China  Air China  london beijing return in economy. did the same...   \n",
       "19   China  Air China  paris to beijing in business class on a 777 30...   \n",
       "\n",
       "                                            Review_LS  Sentiment  \n",
       "0   los angeles beijing return . food quality staf...          0  \n",
       "1   round trip hong kong munich . main reason fly ...          0  \n",
       "2   sydney beijing paris rome beijing sydney famil...          0  \n",
       "3   london sydney return beijing . cheap flight li...          0  \n",
       "4   beijing shanghai . check desk standby passenge...          1  \n",
       "5   stockholm bangkok beijing . return flight bang...          0  \n",
       "6   vancouver hong kong beijing . seating comforta...          0  \n",
       "7   vancouver beijing return economy . vegetarian ...          1  \n",
       "8   hong kong ) bjs a321 . plane clean modern dome...          0  \n",
       "9   dus beijing manila return . 2.5 hour delay bei...          0  \n",
       "10  athens munich beijing munich athens time a332 ...          1  \n",
       "11  san francisco beijing economy . rebooke ua del...          0  \n",
       "12  hong kong paris beijing . price trip excellent...          0  \n",
       "13  melbourne shanghai london return . book air ch...          1  \n",
       "14  fly beijing direct jfk . 13.5 hour flight 2 ho...          0  \n",
       "15  beijing frankfurt 777 economy . seat fine infl...          0  \n",
       "16  sydney pek . seat entertainment service averag...          0  \n",
       "17  london beijing overnight return shanghai beiji...          0  \n",
       "18  london beijing return economy . journey time e...          1  \n",
       "19  paris beijing business class 777 300 return sh...          0  "
      ]
     },
     "execution_count": 12,
     "metadata": {},
     "output_type": "execute_result"
    }
   ],
   "source": [
    "# Importing some basic libraries\n",
    "\n",
    "import numpy as np\n",
    "import pandas as pd\n",
    "\n",
    "# Importing the dataset\n",
    "\n",
    "air = pd.read_csv('airline_df_nlped.csv')\n",
    "air.head(20)"
   ]
  },
  {
   "cell_type": "code",
   "execution_count": 2,
   "metadata": {},
   "outputs": [
    {
     "data": {
      "text/plain": [
       "'paris to beijing in business class on a 777 300 and return from shanghai to paris in business class on a340. seating on the 777 is outstanding with new seats large tv screens and a 2 2 2 configuration. on the a340 the configuration was the same but there were older seats smaller tv screens though i cannot complain about seating. on both legs staff were friendly and attentive. what is unsatisfying was the quality of the meals. i have seldom tasted such bland food and the presentation was horrible. before take off only orange juice and water were served. wines good selection of french wines were outstanding but must have been very expensive because there was no second serving nor were liquors offered at the end of the meal. another drawback was the total absence of reading materials in english or in french except a few china daily newspapers. a large proportion of the offered movies were oldies. if you are not interested in food if you bring your own reading materials air china is a good option as it is cheap and not too many people fly it so you have plenty of space.'"
      ]
     },
     "execution_count": 2,
     "metadata": {},
     "output_type": "execute_result"
    }
   ],
   "source": [
    "air['Review'][19]"
   ]
  },
  {
   "cell_type": "code",
   "execution_count": 3,
   "metadata": {},
   "outputs": [],
   "source": [
    "from transformers import AutoTokenizer, AutoModelForSequenceClassification\n",
    "import torch"
   ]
  },
  {
   "cell_type": "code",
   "execution_count": 4,
   "metadata": {},
   "outputs": [],
   "source": [
    "tokenizer = AutoTokenizer.from_pretrained(\"nlptown/bert-base-multilingual-uncased-sentiment\")\n",
    "model = AutoModelForSequenceClassification.from_pretrained(\"nlptown/bert-base-multilingual-uncased-sentiment\")"
   ]
  },
  {
   "attachments": {},
   "cell_type": "markdown",
   "metadata": {},
   "source": [
    "tokenizer = AutoTokenizer.from_pretrained(\"cardiffnlp/twitter-roberta-base-sentiment-latest\")\n",
    "model = AutoModelForSequenceClassification.from_pretrained(\"cardiffnlp/twitter-roberta-base-sentiment-latest\")"
   ]
  },
  {
   "cell_type": "code",
   "execution_count": 5,
   "metadata": {},
   "outputs": [],
   "source": [
    "tokens = tokenizer.encode(\n",
    "    \"paris to beijing in business class on a 777 300 and return from shanghai to paris in business class on a340. seating on the 777 is outstanding with new seats large tv screens and a 2 2 2 configuration. on the a340 the configuration was the same but there were older seats smaller tv screens though i cannot complain about seating. on both legs staff were friendly and attentive. what is unsatisfying was the quality of the meals. i have seldom tasted such bland food and the presentation was horrible. before take off only orange juice and water were served. wines good selection of french wines were outstanding but must have been very expensive because there was no second serving nor were liquors offered at the end of the meal. another drawback was the total absence of reading materials in english or in french except a few china daily newspapers. a large proportion of the offered movies were oldies. if you are not interested in food if you bring your own reading materials air china is a good option as it is cheap and not too many people fly it so you have plenty of space.\",\n",
    "    return_tensors=\"pt\",\n",
    ")"
   ]
  },
  {
   "cell_type": "code",
   "execution_count": 6,
   "metadata": {},
   "outputs": [
    {
     "data": {
      "text/plain": [
       "tensor([[  101, 10718, 10114, 20885, 10104, 12425, 12728, 10125,   143, 43630,\n",
       "         11023, 10110, 14142, 10195, 23563, 10114, 10718, 10104, 12425, 12728,\n",
       "         10125, 57212, 36722,   119, 16749, 10285, 10125, 10103, 43630, 10127,\n",
       "         26056, 10171, 10246, 26471, 12166, 10827, 21496, 10107, 10110,   143,\n",
       "           123,   123,   123, 50900,   119, 10125, 10103, 57212, 36722, 10103,\n",
       "         50900, 10140, 10103, 11714, 10502, 10768, 10342, 18585, 26471, 21788,\n",
       "         10827, 21496, 10107, 14325,   151, 25004, 85065, 44409, 10935, 16749,\n",
       "         10285,   119, 10125, 11422, 42492, 15929, 10342, 35751, 10110, 54740,\n",
       "         12894, 10598,   119, 11523, 10127, 15905, 13112, 45220, 38101, 10140,\n",
       "         10103, 19468, 10108, 10103, 82714, 12339,   119,   151, 10574, 23789,\n",
       "         17034, 44960, 10163, 11165, 16675, 15225, 10110, 10103, 33289, 10140,\n",
       "         36129, 45795, 10301,   119, 11364, 11622, 11856, 10902, 17419, 70580,\n",
       "         10110, 11917, 10342, 12567,   119, 28312, 10107, 12050, 19415, 10108,\n",
       "         12112, 28312, 10107, 10342, 26056, 10502, 14650, 10574, 10662, 12495,\n",
       "         53936, 12175, 10768, 10140, 10181, 10981, 20182, 24585, 10342, 11162,\n",
       "         71994, 11082, 21013, 10160, 10103, 11421, 10108, 10103, 82714, 10159,\n",
       "           119, 12162, 21666, 20793, 10140, 10103, 11410, 27621, 10108, 10504,\n",
       "         20278, 10104, 11807, 10362, 10104, 12112, 22920,   143, 13983, 11707,\n",
       "         15185, 38798,   119,   143, 12166, 61890, 10108, 10103, 21013, 25194,\n",
       "         10342, 11737, 11763,   119, 11526, 10855, 10320, 10497, 39827, 10104,\n",
       "         15225, 11526, 10855, 22401, 12787, 12530, 10504, 20278, 11140, 11707,\n",
       "         10127,   143, 12050, 28961, 10146, 10197, 10127, 78026, 10110, 10497,\n",
       "         14666, 11260, 11227, 19158, 10197, 10297, 10855, 10574, 16360, 87238,\n",
       "         10108, 12732,   119,   102]])"
      ]
     },
     "execution_count": 6,
     "metadata": {},
     "output_type": "execute_result"
    }
   ],
   "source": [
    "tokens"
   ]
  },
  {
   "cell_type": "code",
   "execution_count": 7,
   "metadata": {},
   "outputs": [
    {
     "data": {
      "text/plain": [
       "'[CLS] paris to beijing in business class on a 777 300 and return from shanghai to paris in business class on a340. seating on the 777 is outstanding with new seats large tv screens and a 2 2 2 configuration. on the a340 the configuration was the same but there were older seats smaller tv screens though i cannot complain about seating. on both legs staff were friendly and attentive. what is unsatisfying was the quality of the meals. i have seldom tasted such bland food and the presentation was horrible. before take off only orange juice and water were served. wines good selection of french wines were outstanding but must have been very expensive because there was no second serving nor were liquors offered at the end of the meal. another drawback was the total absence of reading materials in english or in french except a few china daily newspapers. a large proportion of the offered movies were oldies. if you are not interested in food if you bring your own reading materials air china is a good option as it is cheap and not too many people fly it so you have plenty of space. [SEP]'"
      ]
     },
     "execution_count": 7,
     "metadata": {},
     "output_type": "execute_result"
    }
   ],
   "source": [
    "tokenizer.decode(tokens[0])"
   ]
  },
  {
   "cell_type": "code",
   "execution_count": 8,
   "metadata": {},
   "outputs": [
    {
     "data": {
      "text/plain": [
       "SequenceClassifierOutput(loss=None, logits=tensor([[-0.4403,  0.8183,  0.8859,  0.3805, -1.4286]],\n",
       "       grad_fn=<AddmmBackward0>), hidden_states=None, attentions=None)"
      ]
     },
     "execution_count": 8,
     "metadata": {},
     "output_type": "execute_result"
    }
   ],
   "source": [
    "reults = model(tokens)\n",
    "reults"
   ]
  },
  {
   "cell_type": "code",
   "execution_count": 10,
   "metadata": {},
   "outputs": [
    {
     "data": {
      "text/plain": [
       "3"
      ]
     },
     "execution_count": 10,
     "metadata": {},
     "output_type": "execute_result"
    }
   ],
   "source": [
    "int(torch.argmax(reults.logits))+1"
   ]
  }
 ],
 "metadata": {
  "kernelspec": {
   "display_name": ".venv",
   "language": "python",
   "name": "python3"
  },
  "language_info": {
   "codemirror_mode": {
    "name": "ipython",
    "version": 3
   },
   "file_extension": ".py",
   "mimetype": "text/x-python",
   "name": "python",
   "nbconvert_exporter": "python",
   "pygments_lexer": "ipython3",
   "version": "3.10.4"
  },
  "orig_nbformat": 4
 },
 "nbformat": 4,
 "nbformat_minor": 2
}
