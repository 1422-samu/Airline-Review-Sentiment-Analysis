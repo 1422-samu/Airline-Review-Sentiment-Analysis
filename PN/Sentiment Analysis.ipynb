{
 "cells": [
  {
   "cell_type": "code",
   "execution_count": 1,
   "metadata": {},
   "outputs": [],
   "source": [
    "# Importing basic libraries\n",
    "\n",
    "import numpy as np\n",
    "import pandas as pd\n",
    "import warnings\n",
    "warnings.filterwarnings(\"ignore\")\n",
    "\n",
    "# Importing libraries for sentiment analysis\n",
    "\n",
    "import tensorflow as tf\n",
    "import keras\n",
    "from sklearn.feature_extraction.text import TfidfVectorizer, CountVectorizer\n",
    "from sklearn.model_selection import train_test_split\n",
    "from sklearn.naive_bayes import MultinomialNB, GaussianNB, BernoulliNB\n",
    "from sklearn.metrics import accuracy_score, confusion_matrix, classification_report, roc_auc_score, f1_score, precision_score, recall_score\n"
   ]
  },
  {
   "cell_type": "code",
   "execution_count": 2,
   "metadata": {},
   "outputs": [],
   "source": [
    "# Reading the dataset\n",
    "\n",
    "data = pd.read_csv('airline_nlped.csv')"
   ]
  },
  {
   "cell_type": "code",
   "execution_count": 3,
   "metadata": {},
   "outputs": [
    {
     "data": {
      "text/html": [
       "<div>\n",
       "<style scoped>\n",
       "    .dataframe tbody tr th:only-of-type {\n",
       "        vertical-align: middle;\n",
       "    }\n",
       "\n",
       "    .dataframe tbody tr th {\n",
       "        vertical-align: top;\n",
       "    }\n",
       "\n",
       "    .dataframe thead th {\n",
       "        text-align: right;\n",
       "    }\n",
       "</style>\n",
       "<table border=\"1\" class=\"dataframe\">\n",
       "  <thead>\n",
       "    <tr style=\"text-align: right;\">\n",
       "      <th></th>\n",
       "      <th>Country</th>\n",
       "      <th>Airline</th>\n",
       "      <th>Review</th>\n",
       "      <th>Cleaned_Review</th>\n",
       "      <th>Sentiment</th>\n",
       "    </tr>\n",
       "  </thead>\n",
       "  <tbody>\n",
       "    <tr>\n",
       "      <th>0</th>\n",
       "      <td>China</td>\n",
       "      <td>Air China</td>\n",
       "      <td>los angeles beijing return. food low quality s...</td>\n",
       "      <td>los angeles beijing return . food quality staf...</td>\n",
       "      <td>0</td>\n",
       "    </tr>\n",
       "    <tr>\n",
       "      <th>1</th>\n",
       "      <td>China</td>\n",
       "      <td>Air China</td>\n",
       "      <td>round trip from hong kong to munich. the main ...</td>\n",
       "      <td>round trip hong kong munich . main reason fly ...</td>\n",
       "      <td>0</td>\n",
       "    </tr>\n",
       "    <tr>\n",
       "      <th>2</th>\n",
       "      <td>China</td>\n",
       "      <td>Air China</td>\n",
       "      <td>sydney beijing paris then rome beijing to sydn...</td>\n",
       "      <td>sydney beijing paris rome beijing sydney famil...</td>\n",
       "      <td>0</td>\n",
       "    </tr>\n",
       "    <tr>\n",
       "      <th>3</th>\n",
       "      <td>China</td>\n",
       "      <td>Air China</td>\n",
       "      <td>beijing to shanghai. only one check in desk fo...</td>\n",
       "      <td>beijing shanghai . check desk standby passenge...</td>\n",
       "      <td>1</td>\n",
       "    </tr>\n",
       "    <tr>\n",
       "      <th>4</th>\n",
       "      <td>China</td>\n",
       "      <td>Air China</td>\n",
       "      <td>stockholm bangkok via beijing. return flight b...</td>\n",
       "      <td>stockholm bangkok beijing . return bangkok fra...</td>\n",
       "      <td>0</td>\n",
       "    </tr>\n",
       "  </tbody>\n",
       "</table>\n",
       "</div>"
      ],
      "text/plain": [
       "  Country    Airline                                             Review  \\\n",
       "0   China  Air China  los angeles beijing return. food low quality s...   \n",
       "1   China  Air China  round trip from hong kong to munich. the main ...   \n",
       "2   China  Air China  sydney beijing paris then rome beijing to sydn...   \n",
       "3   China  Air China  beijing to shanghai. only one check in desk fo...   \n",
       "4   China  Air China  stockholm bangkok via beijing. return flight b...   \n",
       "\n",
       "                                      Cleaned_Review  Sentiment  \n",
       "0  los angeles beijing return . food quality staf...          0  \n",
       "1  round trip hong kong munich . main reason fly ...          0  \n",
       "2  sydney beijing paris rome beijing sydney famil...          0  \n",
       "3  beijing shanghai . check desk standby passenge...          1  \n",
       "4  stockholm bangkok beijing . return bangkok fra...          0  "
      ]
     },
     "execution_count": 3,
     "metadata": {},
     "output_type": "execute_result"
    }
   ],
   "source": [
    "data.head()"
   ]
  },
  {
   "cell_type": "code",
   "execution_count": 4,
   "metadata": {},
   "outputs": [
    {
     "data": {
      "text/plain": [
       "(14629, 5)"
      ]
     },
     "execution_count": 4,
     "metadata": {},
     "output_type": "execute_result"
    }
   ],
   "source": [
    "data.shape"
   ]
  },
  {
   "cell_type": "code",
   "execution_count": 5,
   "metadata": {},
   "outputs": [
    {
     "data": {
      "text/plain": [
       "'los angeles beijing return. food low quality staff appeared when time for mandatory service large screen viewing on main bulkhead without sound on both trips. they were older 747s. it seems staff had something to say at irregular intervals making it hard to try and sleep but they were very good at making business transactions ignoring everyone so they could count money and look at receipts. you want a cheap very basic airline trip to china then this is the airline for you.'"
      ]
     },
     "execution_count": 5,
     "metadata": {},
     "output_type": "execute_result"
    }
   ],
   "source": [
    "data['Review'][0]"
   ]
  },
  {
   "cell_type": "code",
   "execution_count": 7,
   "metadata": {},
   "outputs": [
    {
     "data": {
      "text/plain": [
       "'los angeles beijing return . food quality staff appear time mandatory service large screen view main bulkhead sound trip . 747 . staff irregular interval hard sleep business transaction ignore count money receipt . cheap basic trip china .'"
      ]
     },
     "execution_count": 7,
     "metadata": {},
     "output_type": "execute_result"
    }
   ],
   "source": [
    "data['Cleaned_Review'][0]"
   ]
  },
  {
   "cell_type": "code",
   "execution_count": 8,
   "metadata": {},
   "outputs": [
    {
     "data": {
      "text/plain": [
       "Country           0\n",
       "Airline           0\n",
       "Review            0\n",
       "Cleaned_Review    0\n",
       "Sentiment         0\n",
       "dtype: int64"
      ]
     },
     "execution_count": 8,
     "metadata": {},
     "output_type": "execute_result"
    }
   ],
   "source": [
    "data.isna().sum()"
   ]
  },
  {
   "cell_type": "code",
   "execution_count": 21,
   "metadata": {},
   "outputs": [],
   "source": [
    "# Model Building\n",
    "\n",
    "X = data['Review']\n",
    "\n",
    "y = data['Sentiment']\n",
    "\n",
    "# cv = CountVectorizer(max_features=10000,ngram_range=(1,1),stop_words='english')\n",
    "\n",
    "# X = cv.fit_transform(X).toarray()\n",
    "\n",
    "vec = TfidfVectorizer(max_features=10000,ngram_range=(1,3),stop_words='english')\n",
    "\n",
    "X = vec.fit_transform(X).toarray()\n",
    "\n",
    "X_train,X_test,y_train,y_test = train_test_split(X,y,test_size=0.2,random_state=42,stratify=y,shuffle=True)"
   ]
  },
  {
   "cell_type": "code",
   "execution_count": 22,
   "metadata": {},
   "outputs": [
    {
     "name": "stdout",
     "output_type": "stream",
     "text": [
      "Model:  GNB\n",
      "Confusion Matrix: \n",
      " [[ 954  176]\n",
      " [ 269 1527]]\n",
      "Classification Report: \n",
      "               precision    recall  f1-score   support\n",
      "\n",
      "           0       0.78      0.84      0.81      1130\n",
      "           1       0.90      0.85      0.87      1796\n",
      "\n",
      "    accuracy                           0.85      2926\n",
      "   macro avg       0.84      0.85      0.84      2926\n",
      "weighted avg       0.85      0.85      0.85      2926\n",
      "\n",
      "Model:  BNB\n",
      "Confusion Matrix: \n",
      " [[ 905  225]\n",
      " [ 175 1621]]\n",
      "Classification Report: \n",
      "               precision    recall  f1-score   support\n",
      "\n",
      "           0       0.84      0.80      0.82      1130\n",
      "           1       0.88      0.90      0.89      1796\n",
      "\n",
      "    accuracy                           0.86      2926\n",
      "   macro avg       0.86      0.85      0.85      2926\n",
      "weighted avg       0.86      0.86      0.86      2926\n",
      "\n",
      "Model:  MNB\n",
      "Confusion Matrix: \n",
      " [[ 868  262]\n",
      " [ 144 1652]]\n",
      "Classification Report: \n",
      "               precision    recall  f1-score   support\n",
      "\n",
      "           0       0.86      0.77      0.81      1130\n",
      "           1       0.86      0.92      0.89      1796\n",
      "\n",
      "    accuracy                           0.86      2926\n",
      "   macro avg       0.86      0.84      0.85      2926\n",
      "weighted avg       0.86      0.86      0.86      2926\n",
      "\n"
     ]
    },
    {
     "data": {
      "text/html": [
       "<div>\n",
       "<style scoped>\n",
       "    .dataframe tbody tr th:only-of-type {\n",
       "        vertical-align: middle;\n",
       "    }\n",
       "\n",
       "    .dataframe tbody tr th {\n",
       "        vertical-align: top;\n",
       "    }\n",
       "\n",
       "    .dataframe thead th {\n",
       "        text-align: right;\n",
       "    }\n",
       "</style>\n",
       "<table border=\"1\" class=\"dataframe\">\n",
       "  <thead>\n",
       "    <tr style=\"text-align: right;\">\n",
       "      <th></th>\n",
       "      <th>Model</th>\n",
       "      <th>Accuracy</th>\n",
       "      <th>Precision</th>\n",
       "      <th>Recall</th>\n",
       "      <th>F1 Score</th>\n",
       "      <th>ROC AUC</th>\n",
       "    </tr>\n",
       "  </thead>\n",
       "  <tbody>\n",
       "    <tr>\n",
       "      <th>0</th>\n",
       "      <td>GNB</td>\n",
       "      <td>0.847915</td>\n",
       "      <td>0.851621</td>\n",
       "      <td>0.847915</td>\n",
       "      <td>0.848900</td>\n",
       "      <td>0.847235</td>\n",
       "    </tr>\n",
       "    <tr>\n",
       "      <th>1</th>\n",
       "      <td>BNB</td>\n",
       "      <td>0.863295</td>\n",
       "      <td>0.862608</td>\n",
       "      <td>0.863295</td>\n",
       "      <td>0.862687</td>\n",
       "      <td>0.851723</td>\n",
       "    </tr>\n",
       "    <tr>\n",
       "      <th>2</th>\n",
       "      <td>MNB</td>\n",
       "      <td>0.861244</td>\n",
       "      <td>0.861026</td>\n",
       "      <td>0.861244</td>\n",
       "      <td>0.859629</td>\n",
       "      <td>0.843982</td>\n",
       "    </tr>\n",
       "  </tbody>\n",
       "</table>\n",
       "</div>"
      ],
      "text/plain": [
       "  Model  Accuracy  Precision    Recall  F1 Score   ROC AUC\n",
       "0   GNB  0.847915   0.851621  0.847915  0.848900  0.847235\n",
       "1   BNB  0.863295   0.862608  0.863295  0.862687  0.851723\n",
       "2   MNB  0.861244   0.861026  0.861244  0.859629  0.843982"
      ]
     },
     "execution_count": 22,
     "metadata": {},
     "output_type": "execute_result"
    }
   ],
   "source": [
    "from sklearn.naive_bayes import GaussianNB, BernoulliNB, MultinomialNB\n",
    "\n",
    "models = [('GNB',GaussianNB()),('BNB',BernoulliNB()),('MNB',MultinomialNB())]\n",
    "results = pd.DataFrame(columns=['Model','Accuracy','Precision','Recall','F1 Score','ROC AUC'])\n",
    "\n",
    "for name,model in models:\n",
    "    model.fit(X_train,y_train)\n",
    "    y_pred = model.predict(X_test)\n",
    "    acc = accuracy_score(y_test,y_pred)\n",
    "    prec = precision_score(y_test,y_pred,average='weighted')\n",
    "    rec = recall_score(y_test,y_pred,average='weighted')\n",
    "    f1 = f1_score(y_test,y_pred,average='weighted')\n",
    "    roc_auc = roc_auc_score(y_test,y_pred)\n",
    "    # Adding the results to the dataframe without appending\n",
    "    results.loc[len(results)] = [name,acc,prec,rec,f1,roc_auc]\n",
    "    print('Model: ',name)\n",
    "    print('Confusion Matrix: \\n',confusion_matrix(y_test,y_pred))\n",
    "    print('Classification Report: \\n',classification_report(y_test,y_pred))\n",
    "    \n",
    "results"
   ]
  },
  {
   "cell_type": "code",
   "execution_count": 11,
   "metadata": {},
   "outputs": [],
   "source": [
    "# Using a word2vec model for sentiment analysis\n",
    "\n",
    "from gensim.models import Word2Vec\n",
    "\n",
    "# Creating a list of reviews_for_word2vec\n",
    "\n",
    "reviews_for_word2vec = []\n",
    "\n",
    "for i in range(len(data)):\n",
    "    reviews_for_word2vec.append(data['Review'][i].split())"
   ]
  },
  {
   "cell_type": "code",
   "execution_count": 15,
   "metadata": {},
   "outputs": [
    {
     "data": {
      "text/plain": [
       "(14629, 150)"
      ]
     },
     "execution_count": 15,
     "metadata": {},
     "output_type": "execute_result"
    }
   ],
   "source": [
    "# Creating a word2vec model\n",
    "\n",
    "word2vec_model = Word2Vec(reviews_for_word2vec,min_count=1,vector_size=150,window=5,workers=4)\n",
    "\n",
    "# Creating a list of vectors for each review\n",
    "\n",
    "vectors = []\n",
    "\n",
    "for i in range(len(reviews_for_word2vec)):\n",
    "    vectors.append(np.sum(word2vec_model.wv[reviews_for_word2vec[i]],axis=0))\n",
    "    \n",
    "vectors = np.array(vectors)\n",
    "\n",
    "vectors.shape"
   ]
  },
  {
   "cell_type": "code",
   "execution_count": 16,
   "metadata": {},
   "outputs": [
    {
     "data": {
      "text/html": [
       "<div>\n",
       "<style scoped>\n",
       "    .dataframe tbody tr th:only-of-type {\n",
       "        vertical-align: middle;\n",
       "    }\n",
       "\n",
       "    .dataframe tbody tr th {\n",
       "        vertical-align: top;\n",
       "    }\n",
       "\n",
       "    .dataframe thead th {\n",
       "        text-align: right;\n",
       "    }\n",
       "</style>\n",
       "<table border=\"1\" class=\"dataframe\">\n",
       "  <thead>\n",
       "    <tr style=\"text-align: right;\">\n",
       "      <th></th>\n",
       "      <th>Accuracy</th>\n",
       "      <th>Precision</th>\n",
       "      <th>Recall</th>\n",
       "      <th>F1 Score</th>\n",
       "      <th>ROC AUC Score</th>\n",
       "    </tr>\n",
       "    <tr>\n",
       "      <th>Model</th>\n",
       "      <th></th>\n",
       "      <th></th>\n",
       "      <th></th>\n",
       "      <th></th>\n",
       "      <th></th>\n",
       "    </tr>\n",
       "  </thead>\n",
       "  <tbody>\n",
       "    <tr>\n",
       "      <th>LR</th>\n",
       "      <td>0.853042</td>\n",
       "      <td>0.867204</td>\n",
       "      <td>0.898107</td>\n",
       "      <td>0.882385</td>\n",
       "      <td>0.839761</td>\n",
       "    </tr>\n",
       "    <tr>\n",
       "      <th>SVC</th>\n",
       "      <td>0.847573</td>\n",
       "      <td>0.854890</td>\n",
       "      <td>0.905345</td>\n",
       "      <td>0.879394</td>\n",
       "      <td>0.830549</td>\n",
       "    </tr>\n",
       "    <tr>\n",
       "      <th>CBC</th>\n",
       "      <td>0.839371</td>\n",
       "      <td>0.853035</td>\n",
       "      <td>0.891982</td>\n",
       "      <td>0.872074</td>\n",
       "      <td>0.823867</td>\n",
       "    </tr>\n",
       "    <tr>\n",
       "      <th>XGB</th>\n",
       "      <td>0.832878</td>\n",
       "      <td>0.847422</td>\n",
       "      <td>0.887528</td>\n",
       "      <td>0.867011</td>\n",
       "      <td>0.816773</td>\n",
       "    </tr>\n",
       "    <tr>\n",
       "      <th>RFC</th>\n",
       "      <td>0.831852</td>\n",
       "      <td>0.842797</td>\n",
       "      <td>0.892539</td>\n",
       "      <td>0.866955</td>\n",
       "      <td>0.813969</td>\n",
       "    </tr>\n",
       "    <tr>\n",
       "      <th>ETC</th>\n",
       "      <td>0.831169</td>\n",
       "      <td>0.836608</td>\n",
       "      <td>0.900891</td>\n",
       "      <td>0.867560</td>\n",
       "      <td>0.810622</td>\n",
       "    </tr>\n",
       "    <tr>\n",
       "      <th>KNN</th>\n",
       "      <td>0.805537</td>\n",
       "      <td>0.814132</td>\n",
       "      <td>0.885301</td>\n",
       "      <td>0.848226</td>\n",
       "      <td>0.782031</td>\n",
       "    </tr>\n",
       "    <tr>\n",
       "      <th>BNB</th>\n",
       "      <td>0.776828</td>\n",
       "      <td>0.835979</td>\n",
       "      <td>0.791759</td>\n",
       "      <td>0.813269</td>\n",
       "      <td>0.772428</td>\n",
       "    </tr>\n",
       "    <tr>\n",
       "      <th>GNB</th>\n",
       "      <td>0.680451</td>\n",
       "      <td>0.691759</td>\n",
       "      <td>0.864699</td>\n",
       "      <td>0.768622</td>\n",
       "      <td>0.626155</td>\n",
       "    </tr>\n",
       "  </tbody>\n",
       "</table>\n",
       "</div>"
      ],
      "text/plain": [
       "       Accuracy  Precision    Recall  F1 Score  ROC AUC Score\n",
       "Model                                                        \n",
       "LR     0.853042   0.867204  0.898107  0.882385       0.839761\n",
       "SVC    0.847573   0.854890  0.905345  0.879394       0.830549\n",
       "CBC    0.839371   0.853035  0.891982  0.872074       0.823867\n",
       "XGB    0.832878   0.847422  0.887528  0.867011       0.816773\n",
       "RFC    0.831852   0.842797  0.892539  0.866955       0.813969\n",
       "ETC    0.831169   0.836608  0.900891  0.867560       0.810622\n",
       "KNN    0.805537   0.814132  0.885301  0.848226       0.782031\n",
       "BNB    0.776828   0.835979  0.791759  0.813269       0.772428\n",
       "GNB    0.680451   0.691759  0.864699  0.768622       0.626155"
      ]
     },
     "execution_count": 16,
     "metadata": {},
     "output_type": "execute_result"
    }
   ],
   "source": [
    "# Model Building\n",
    "\n",
    "X = vectors\n",
    "\n",
    "y = data[\"Sentiment\"]\n",
    "\n",
    "X_train, X_test, y_train, y_test = train_test_split(\n",
    "    X, y, test_size=0.2, random_state=42, stratify=y, shuffle=True\n",
    ")\n",
    "\n",
    "from sklearn.naive_bayes import GaussianNB, BernoulliNB\n",
    "from sklearn.svm import SVC\n",
    "from sklearn.ensemble import RandomForestClassifier, ExtraTreesClassifier\n",
    "from sklearn.linear_model import LogisticRegression\n",
    "from sklearn.neighbors import KNeighborsClassifier\n",
    "from xgboost import XGBClassifier\n",
    "from catboost import CatBoostClassifier\n",
    "\n",
    "models = [\n",
    "    (\"GNB\", GaussianNB()),\n",
    "    (\"BNB\", BernoulliNB()),\n",
    "    (\"SVC\", SVC(random_state=101)),\n",
    "    (\"RFC\", RandomForestClassifier(random_state=101)),\n",
    "    (\"ETC\", ExtraTreesClassifier(random_state=101, n_jobs=-1)),\n",
    "    (\"LR\", LogisticRegression(n_jobs=-1)),\n",
    "    (\"KNN\", KNeighborsClassifier(n_jobs=-1)),\n",
    "    (\"XGB\", XGBClassifier(random_state=101, n_jobs=-1)),\n",
    "    (\"CBC\", CatBoostClassifier(random_state=101, verbose=0)),\n",
    "]\n",
    "\n",
    "results = pd.DataFrame(\n",
    "    columns=[\"Model\", \"Accuracy\", \"Precision\", \"Recall\", \"F1 Score\", \"ROC AUC Score\"]\n",
    ")\n",
    "\n",
    "for name, model in models:\n",
    "    model.fit(X_train, y_train)\n",
    "    y_pred = model.predict(X_test)\n",
    "    acc = accuracy_score(y_test, y_pred)\n",
    "    prec = precision_score(y_test, y_pred)\n",
    "    rec = recall_score(y_test, y_pred)\n",
    "    f1 = f1_score(y_test, y_pred)\n",
    "    roc_auc = roc_auc_score(y_test, y_pred)\n",
    "    # Adding the results to the dataframe without appending\n",
    "    results.loc[len(results)] = [name, acc, prec, rec, f1, roc_auc]\n",
    "\n",
    "results.set_index(\"Model\").sort_values(by=\"ROC AUC Score\", ascending=False)"
   ]
  },
  {
   "cell_type": "code",
   "execution_count": null,
   "metadata": {},
   "outputs": [],
   "source": []
  }
 ],
 "metadata": {
  "kernelspec": {
   "display_name": ".venv",
   "language": "python",
   "name": "python3"
  },
  "language_info": {
   "codemirror_mode": {
    "name": "ipython",
    "version": 3
   },
   "file_extension": ".py",
   "mimetype": "text/x-python",
   "name": "python",
   "nbconvert_exporter": "python",
   "pygments_lexer": "ipython3",
   "version": "3.10.4"
  },
  "orig_nbformat": 4
 },
 "nbformat": 4,
 "nbformat_minor": 2
}
